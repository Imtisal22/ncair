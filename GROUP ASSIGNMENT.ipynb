{
 "cells": [
  {
   "cell_type": "code",
   "execution_count": 150,
   "id": "2b294068",
   "metadata": {},
   "outputs": [],
   "source": [
    "import pandas as pd\n",
    "import numpy as np\n",
    "import seaborn as sns"
   ]
  },
  {
   "cell_type": "code",
   "execution_count": 151,
   "id": "fff9c84f",
   "metadata": {},
   "outputs": [
    {
     "name": "stdout",
     "output_type": "stream",
     "text": [
      "1. StudentID: Unique identifier for each student\n",
      "2. school: Student's school ('GP' - Gombe Prime or 'MS' - Methodist School)\n",
      "3. sex: Student's sex ('F' - female or 'M' - male)\n",
      "4. age: Student's age (numeric: from 15 to 22)\n",
      "5. address: Student's home address type ('U' - urban or 'R' - rural)\n",
      "6. famsize: Family size ('LE3' - less than or equal to 3 or 'GT3' - greater than 3)\n",
      "7. pstatus: Parent's cohabitation status ('T' - living together or 'A' - apart)\n",
      "8. medu: Mother's education level (categorical)\n",
      "9. fedu: Father's education level (categorical)\n",
      "10. mjob: Mother's occupation\n",
      "11. fjob: Father's occupation\n",
      "12. reason: Reason for choosing the school\n",
      "13. guardian: Student's guardian ('mother', 'father', or 'other')\n",
      "14. traveltime: Home to school travel time (numeric: 1 - less than 15 min, 2 - 15 to 30 min, 3 - 30 min to 1 hour, or 4 - more than 1 hour)\n",
      "15. studytime: Weekly study time (numeric: 1 - less than 2 hours, 2 - 2 to 5 hours, 3 - 5 to 10 hours, or 4 - more than 10 hours)\n",
      "16. failures: Number of past class failures (numeric: n if 1 <= n < 3, else 4)\n",
      "17. schoolsup: Extra educational support (binary: yes or no)\n",
      "18. famsup: Family educational support (binary: yes or no)\n",
      "19. paid: Extra paid classes within the course subject (binary: yes or no)\n",
      "20. activities: Participation in extracurricular activities (binary: yes or no)\n",
      "21. nursery: Attendance at nursery school (binary: yes or no)\n",
      "22. higher: Desire to pursue higher education (binary: yes or no)\n",
      "23. internet: Internet access at home (binary: yes or no)\n",
      "24. romantic: In a romantic relationship (binary: yes or no)\n",
      "25. famrel: Quality of family relationships (numeric: from 1 - very bad to 5 - excellent)\n",
      "26. freetime: Free time after school (numeric: from 1 - very low to 5 - very high)\n",
      "27. goout: Time spent going out with friends (numeric: from 1 - very low to 5 - very high)\n",
      "28. dalc: Workday alcohol consumption (numeric: from 1 - very low to 5 - very high)\n",
      "29. walc: Weekend alcohol consumption (numeric: from 1 - very low to 5 - very high)\n",
      "30. health: Current health status (categorical)\n",
      "31. absences: Number of school absences (numeric: from 0 to 93)\n",
      "32. g1: First period grade (numeric: from 0 to 20)\n",
      "33. g2: Second period grade (numeric: from 0 to 20)\n",
      "34. Grade: Final grade (numeric: from 0 to 20, output target)\n",
      "\n",
      "\n"
     ]
    }
   ],
   "source": [
    "file = open(\"data_description.txt\",\"r\")\n",
    "print(file.read())"
   ]
  },
  {
   "cell_type": "code",
   "execution_count": 152,
   "id": "469230e3",
   "metadata": {},
   "outputs": [],
   "source": [
    "data = pd.read_csv(\"student_performance.csv\")"
   ]
  },
  {
   "cell_type": "code",
   "execution_count": 153,
   "id": "adb4b3c1",
   "metadata": {},
   "outputs": [
    {
     "data": {
      "text/html": [
       "<div>\n",
       "<style scoped>\n",
       "    .dataframe tbody tr th:only-of-type {\n",
       "        vertical-align: middle;\n",
       "    }\n",
       "\n",
       "    .dataframe tbody tr th {\n",
       "        vertical-align: top;\n",
       "    }\n",
       "\n",
       "    .dataframe thead th {\n",
       "        text-align: right;\n",
       "    }\n",
       "</style>\n",
       "<table border=\"1\" class=\"dataframe\">\n",
       "  <thead>\n",
       "    <tr style=\"text-align: right;\">\n",
       "      <th></th>\n",
       "      <th>StudentID</th>\n",
       "      <th>school</th>\n",
       "      <th>sex</th>\n",
       "      <th>age</th>\n",
       "      <th>address</th>\n",
       "      <th>famsize</th>\n",
       "      <th>Pstatus</th>\n",
       "      <th>Medu</th>\n",
       "      <th>Fedu</th>\n",
       "      <th>Mjob</th>\n",
       "      <th>...</th>\n",
       "      <th>famrel</th>\n",
       "      <th>freetime</th>\n",
       "      <th>goout</th>\n",
       "      <th>Dalc</th>\n",
       "      <th>Walc</th>\n",
       "      <th>health</th>\n",
       "      <th>absences</th>\n",
       "      <th>G1</th>\n",
       "      <th>G2</th>\n",
       "      <th>Grade</th>\n",
       "    </tr>\n",
       "  </thead>\n",
       "  <tbody>\n",
       "    <tr>\n",
       "      <th>0</th>\n",
       "      <td>745263</td>\n",
       "      <td>GP</td>\n",
       "      <td>F</td>\n",
       "      <td>18</td>\n",
       "      <td>R</td>\n",
       "      <td>GT3</td>\n",
       "      <td>A</td>\n",
       "      <td>Tertiary education</td>\n",
       "      <td>Secondary education</td>\n",
       "      <td>other</td>\n",
       "      <td>...</td>\n",
       "      <td>4</td>\n",
       "      <td>1</td>\n",
       "      <td>1</td>\n",
       "      <td>1</td>\n",
       "      <td>1</td>\n",
       "      <td>very good</td>\n",
       "      <td>15</td>\n",
       "      <td>12.0</td>\n",
       "      <td>9.0</td>\n",
       "      <td>10</td>\n",
       "    </tr>\n",
       "    <tr>\n",
       "      <th>1</th>\n",
       "      <td>174740</td>\n",
       "      <td>MS</td>\n",
       "      <td>F</td>\n",
       "      <td>17</td>\n",
       "      <td>U</td>\n",
       "      <td>GT3</td>\n",
       "      <td>T</td>\n",
       "      <td>Tertiary education</td>\n",
       "      <td>Secondary education</td>\n",
       "      <td>at_home</td>\n",
       "      <td>...</td>\n",
       "      <td>4</td>\n",
       "      <td>3</td>\n",
       "      <td>3</td>\n",
       "      <td>2</td>\n",
       "      <td>2</td>\n",
       "      <td>very bad</td>\n",
       "      <td>5</td>\n",
       "      <td>9.0</td>\n",
       "      <td>NaN</td>\n",
       "      <td>11</td>\n",
       "    </tr>\n",
       "    <tr>\n",
       "      <th>2</th>\n",
       "      <td>308261</td>\n",
       "      <td>GP</td>\n",
       "      <td>F</td>\n",
       "      <td>15</td>\n",
       "      <td>U</td>\n",
       "      <td>LE3</td>\n",
       "      <td>T</td>\n",
       "      <td>Tertiary education</td>\n",
       "      <td>Secondary education</td>\n",
       "      <td>services</td>\n",
       "      <td>...</td>\n",
       "      <td>4</td>\n",
       "      <td>4</td>\n",
       "      <td>4</td>\n",
       "      <td>1</td>\n",
       "      <td>1</td>\n",
       "      <td>very good</td>\n",
       "      <td>4</td>\n",
       "      <td>12.0</td>\n",
       "      <td>11.0</td>\n",
       "      <td>11</td>\n",
       "    </tr>\n",
       "    <tr>\n",
       "      <th>3</th>\n",
       "      <td>337549</td>\n",
       "      <td>MS</td>\n",
       "      <td>F</td>\n",
       "      <td>17</td>\n",
       "      <td>U</td>\n",
       "      <td>GT3</td>\n",
       "      <td>T</td>\n",
       "      <td>Secondary education</td>\n",
       "      <td>Secondary education</td>\n",
       "      <td>other</td>\n",
       "      <td>...</td>\n",
       "      <td>4</td>\n",
       "      <td>5</td>\n",
       "      <td>3</td>\n",
       "      <td>1</td>\n",
       "      <td>1</td>\n",
       "      <td>very good</td>\n",
       "      <td>4</td>\n",
       "      <td>9.0</td>\n",
       "      <td>9.0</td>\n",
       "      <td>10</td>\n",
       "    </tr>\n",
       "    <tr>\n",
       "      <th>4</th>\n",
       "      <td>318969</td>\n",
       "      <td>GP</td>\n",
       "      <td>F</td>\n",
       "      <td>17</td>\n",
       "      <td>U</td>\n",
       "      <td>GT3</td>\n",
       "      <td>T</td>\n",
       "      <td>Postgraduate education</td>\n",
       "      <td>Postgraduate education</td>\n",
       "      <td>other</td>\n",
       "      <td>...</td>\n",
       "      <td>4</td>\n",
       "      <td>2</td>\n",
       "      <td>1</td>\n",
       "      <td>1</td>\n",
       "      <td>1</td>\n",
       "      <td>good</td>\n",
       "      <td>0</td>\n",
       "      <td>13.0</td>\n",
       "      <td>13.0</td>\n",
       "      <td>13</td>\n",
       "    </tr>\n",
       "  </tbody>\n",
       "</table>\n",
       "<p>5 rows × 34 columns</p>\n",
       "</div>"
      ],
      "text/plain": [
       "   StudentID school sex  age address famsize Pstatus                    Medu  \\\n",
       "0     745263     GP   F   18       R     GT3       A      Tertiary education   \n",
       "1     174740     MS   F   17       U     GT3       T      Tertiary education   \n",
       "2     308261     GP   F   15       U     LE3       T      Tertiary education   \n",
       "3     337549     MS   F   17       U     GT3       T     Secondary education   \n",
       "4     318969     GP   F   17       U     GT3       T  Postgraduate education   \n",
       "\n",
       "                     Fedu      Mjob  ... famrel freetime goout  Dalc  Walc  \\\n",
       "0     Secondary education     other  ...      4        1     1     1     1   \n",
       "1     Secondary education   at_home  ...      4        3     3     2     2   \n",
       "2     Secondary education  services  ...      4        4     4     1     1   \n",
       "3     Secondary education     other  ...      4        5     3     1     1   \n",
       "4  Postgraduate education     other  ...      4        2     1     1     1   \n",
       "\n",
       "      health absences    G1    G2 Grade  \n",
       "0  very good       15  12.0   9.0    10  \n",
       "1   very bad        5   9.0   NaN    11  \n",
       "2  very good        4  12.0  11.0    11  \n",
       "3  very good        4   9.0   9.0    10  \n",
       "4       good        0  13.0  13.0    13  \n",
       "\n",
       "[5 rows x 34 columns]"
      ]
     },
     "execution_count": 153,
     "metadata": {},
     "output_type": "execute_result"
    }
   ],
   "source": [
    "data.head()"
   ]
  },
  {
   "cell_type": "code",
   "execution_count": 154,
   "id": "c6ae95f9",
   "metadata": {},
   "outputs": [
    {
     "data": {
      "text/plain": [
       "(544, 34)"
      ]
     },
     "execution_count": 154,
     "metadata": {},
     "output_type": "execute_result"
    }
   ],
   "source": [
    "data.shape"
   ]
  },
  {
   "cell_type": "code",
   "execution_count": 155,
   "id": "2ba334fd",
   "metadata": {},
   "outputs": [
    {
     "name": "stdout",
     "output_type": "stream",
     "text": [
      "<class 'pandas.core.frame.DataFrame'>\n",
      "RangeIndex: 544 entries, 0 to 543\n",
      "Data columns (total 34 columns):\n",
      " #   Column      Non-Null Count  Dtype  \n",
      "---  ------      --------------  -----  \n",
      " 0   StudentID   544 non-null    int64  \n",
      " 1   school      544 non-null    object \n",
      " 2   sex         544 non-null    object \n",
      " 3   age         544 non-null    int64  \n",
      " 4   address     544 non-null    object \n",
      " 5   famsize     540 non-null    object \n",
      " 6   Pstatus     544 non-null    object \n",
      " 7   Medu        544 non-null    object \n",
      " 8   Fedu        544 non-null    object \n",
      " 9   Mjob        544 non-null    object \n",
      " 10  Fjob        544 non-null    object \n",
      " 11  reason      544 non-null    object \n",
      " 12  guardian    544 non-null    object \n",
      " 13  traveltime  544 non-null    int64  \n",
      " 14  studytime   544 non-null    int64  \n",
      " 15  failures    544 non-null    int64  \n",
      " 16  schoolsup   544 non-null    object \n",
      " 17  famsup      544 non-null    object \n",
      " 18  paid        539 non-null    object \n",
      " 19  activities  544 non-null    object \n",
      " 20  nursery     544 non-null    object \n",
      " 21  higher      544 non-null    object \n",
      " 22  internet    544 non-null    object \n",
      " 23  romantic    544 non-null    object \n",
      " 24  famrel      544 non-null    int64  \n",
      " 25  freetime    544 non-null    int64  \n",
      " 26  goout       544 non-null    int64  \n",
      " 27  Dalc        544 non-null    int64  \n",
      " 28  Walc        544 non-null    int64  \n",
      " 29  health      544 non-null    object \n",
      " 30  absences    544 non-null    int64  \n",
      " 31  G1          541 non-null    float64\n",
      " 32  G2          541 non-null    float64\n",
      " 33  Grade       544 non-null    int64  \n",
      "dtypes: float64(2), int64(12), object(20)\n",
      "memory usage: 144.6+ KB\n"
     ]
    }
   ],
   "source": [
    "data.info()"
   ]
  },
  {
   "cell_type": "code",
   "execution_count": 156,
   "id": "a8ef7e7a",
   "metadata": {},
   "outputs": [
    {
     "data": {
      "text/html": [
       "<div>\n",
       "<style scoped>\n",
       "    .dataframe tbody tr th:only-of-type {\n",
       "        vertical-align: middle;\n",
       "    }\n",
       "\n",
       "    .dataframe tbody tr th {\n",
       "        vertical-align: top;\n",
       "    }\n",
       "\n",
       "    .dataframe thead th {\n",
       "        text-align: right;\n",
       "    }\n",
       "</style>\n",
       "<table border=\"1\" class=\"dataframe\">\n",
       "  <thead>\n",
       "    <tr style=\"text-align: right;\">\n",
       "      <th></th>\n",
       "      <th>StudentID</th>\n",
       "      <th>age</th>\n",
       "      <th>traveltime</th>\n",
       "      <th>studytime</th>\n",
       "      <th>failures</th>\n",
       "      <th>famrel</th>\n",
       "      <th>freetime</th>\n",
       "      <th>goout</th>\n",
       "      <th>Dalc</th>\n",
       "      <th>Walc</th>\n",
       "      <th>absences</th>\n",
       "      <th>G1</th>\n",
       "      <th>G2</th>\n",
       "      <th>Grade</th>\n",
       "    </tr>\n",
       "  </thead>\n",
       "  <tbody>\n",
       "    <tr>\n",
       "      <th>count</th>\n",
       "      <td>544.000000</td>\n",
       "      <td>544.000000</td>\n",
       "      <td>544.000000</td>\n",
       "      <td>544.000000</td>\n",
       "      <td>544.000000</td>\n",
       "      <td>544.000000</td>\n",
       "      <td>544.000000</td>\n",
       "      <td>544.000000</td>\n",
       "      <td>544.000000</td>\n",
       "      <td>544.000000</td>\n",
       "      <td>544.000000</td>\n",
       "      <td>541.000000</td>\n",
       "      <td>541.000000</td>\n",
       "      <td>544.000000</td>\n",
       "    </tr>\n",
       "    <tr>\n",
       "      <th>mean</th>\n",
       "      <td>545647.773897</td>\n",
       "      <td>17.121324</td>\n",
       "      <td>1.577206</td>\n",
       "      <td>1.904412</td>\n",
       "      <td>0.220588</td>\n",
       "      <td>4.003676</td>\n",
       "      <td>3.198529</td>\n",
       "      <td>3.181985</td>\n",
       "      <td>1.509191</td>\n",
       "      <td>2.283088</td>\n",
       "      <td>3.738971</td>\n",
       "      <td>11.240296</td>\n",
       "      <td>11.632163</td>\n",
       "      <td>11.757353</td>\n",
       "    </tr>\n",
       "    <tr>\n",
       "      <th>std</th>\n",
       "      <td>260288.577310</td>\n",
       "      <td>6.399815</td>\n",
       "      <td>0.763771</td>\n",
       "      <td>0.813140</td>\n",
       "      <td>0.581370</td>\n",
       "      <td>2.198272</td>\n",
       "      <td>1.072474</td>\n",
       "      <td>1.269404</td>\n",
       "      <td>0.955698</td>\n",
       "      <td>1.296265</td>\n",
       "      <td>4.790440</td>\n",
       "      <td>2.711007</td>\n",
       "      <td>5.511570</td>\n",
       "      <td>3.274425</td>\n",
       "    </tr>\n",
       "    <tr>\n",
       "      <th>min</th>\n",
       "      <td>104000.000000</td>\n",
       "      <td>6.000000</td>\n",
       "      <td>1.000000</td>\n",
       "      <td>1.000000</td>\n",
       "      <td>0.000000</td>\n",
       "      <td>1.000000</td>\n",
       "      <td>1.000000</td>\n",
       "      <td>-5.000000</td>\n",
       "      <td>1.000000</td>\n",
       "      <td>1.000000</td>\n",
       "      <td>0.000000</td>\n",
       "      <td>0.000000</td>\n",
       "      <td>0.000000</td>\n",
       "      <td>0.000000</td>\n",
       "    </tr>\n",
       "    <tr>\n",
       "      <th>25%</th>\n",
       "      <td>314137.000000</td>\n",
       "      <td>16.000000</td>\n",
       "      <td>1.000000</td>\n",
       "      <td>1.000000</td>\n",
       "      <td>0.000000</td>\n",
       "      <td>4.000000</td>\n",
       "      <td>3.000000</td>\n",
       "      <td>2.000000</td>\n",
       "      <td>1.000000</td>\n",
       "      <td>1.000000</td>\n",
       "      <td>0.000000</td>\n",
       "      <td>9.000000</td>\n",
       "      <td>10.000000</td>\n",
       "      <td>10.000000</td>\n",
       "    </tr>\n",
       "    <tr>\n",
       "      <th>50%</th>\n",
       "      <td>546997.000000</td>\n",
       "      <td>17.000000</td>\n",
       "      <td>1.000000</td>\n",
       "      <td>2.000000</td>\n",
       "      <td>0.000000</td>\n",
       "      <td>4.000000</td>\n",
       "      <td>3.000000</td>\n",
       "      <td>3.000000</td>\n",
       "      <td>1.000000</td>\n",
       "      <td>2.000000</td>\n",
       "      <td>2.000000</td>\n",
       "      <td>11.000000</td>\n",
       "      <td>11.000000</td>\n",
       "      <td>12.000000</td>\n",
       "    </tr>\n",
       "    <tr>\n",
       "      <th>75%</th>\n",
       "      <td>764553.750000</td>\n",
       "      <td>18.000000</td>\n",
       "      <td>2.000000</td>\n",
       "      <td>2.000000</td>\n",
       "      <td>0.000000</td>\n",
       "      <td>5.000000</td>\n",
       "      <td>4.000000</td>\n",
       "      <td>4.000000</td>\n",
       "      <td>2.000000</td>\n",
       "      <td>3.000000</td>\n",
       "      <td>6.000000</td>\n",
       "      <td>13.000000</td>\n",
       "      <td>13.000000</td>\n",
       "      <td>14.000000</td>\n",
       "    </tr>\n",
       "    <tr>\n",
       "      <th>max</th>\n",
       "      <td>999684.000000</td>\n",
       "      <td>150.000000</td>\n",
       "      <td>4.000000</td>\n",
       "      <td>4.000000</td>\n",
       "      <td>3.000000</td>\n",
       "      <td>50.000000</td>\n",
       "      <td>5.000000</td>\n",
       "      <td>5.000000</td>\n",
       "      <td>5.000000</td>\n",
       "      <td>5.000000</td>\n",
       "      <td>32.000000</td>\n",
       "      <td>18.000000</td>\n",
       "      <td>120.000000</td>\n",
       "      <td>19.000000</td>\n",
       "    </tr>\n",
       "  </tbody>\n",
       "</table>\n",
       "</div>"
      ],
      "text/plain": [
       "           StudentID         age  traveltime   studytime    failures  \\\n",
       "count     544.000000  544.000000  544.000000  544.000000  544.000000   \n",
       "mean   545647.773897   17.121324    1.577206    1.904412    0.220588   \n",
       "std    260288.577310    6.399815    0.763771    0.813140    0.581370   \n",
       "min    104000.000000    6.000000    1.000000    1.000000    0.000000   \n",
       "25%    314137.000000   16.000000    1.000000    1.000000    0.000000   \n",
       "50%    546997.000000   17.000000    1.000000    2.000000    0.000000   \n",
       "75%    764553.750000   18.000000    2.000000    2.000000    0.000000   \n",
       "max    999684.000000  150.000000    4.000000    4.000000    3.000000   \n",
       "\n",
       "           famrel    freetime       goout        Dalc        Walc    absences  \\\n",
       "count  544.000000  544.000000  544.000000  544.000000  544.000000  544.000000   \n",
       "mean     4.003676    3.198529    3.181985    1.509191    2.283088    3.738971   \n",
       "std      2.198272    1.072474    1.269404    0.955698    1.296265    4.790440   \n",
       "min      1.000000    1.000000   -5.000000    1.000000    1.000000    0.000000   \n",
       "25%      4.000000    3.000000    2.000000    1.000000    1.000000    0.000000   \n",
       "50%      4.000000    3.000000    3.000000    1.000000    2.000000    2.000000   \n",
       "75%      5.000000    4.000000    4.000000    2.000000    3.000000    6.000000   \n",
       "max     50.000000    5.000000    5.000000    5.000000    5.000000   32.000000   \n",
       "\n",
       "               G1          G2       Grade  \n",
       "count  541.000000  541.000000  544.000000  \n",
       "mean    11.240296   11.632163   11.757353  \n",
       "std      2.711007    5.511570    3.274425  \n",
       "min      0.000000    0.000000    0.000000  \n",
       "25%      9.000000   10.000000   10.000000  \n",
       "50%     11.000000   11.000000   12.000000  \n",
       "75%     13.000000   13.000000   14.000000  \n",
       "max     18.000000  120.000000   19.000000  "
      ]
     },
     "execution_count": 156,
     "metadata": {},
     "output_type": "execute_result"
    }
   ],
   "source": [
    "data.describe()"
   ]
  },
  {
   "cell_type": "code",
   "execution_count": 157,
   "id": "b45581b5",
   "metadata": {},
   "outputs": [],
   "source": [
    "G1 = data[\"G1\"]"
   ]
  },
  {
   "cell_type": "code",
   "execution_count": 158,
   "id": "b0a52199",
   "metadata": {},
   "outputs": [
    {
     "data": {
      "text/plain": [
       "11.24029574861368"
      ]
     },
     "execution_count": 158,
     "metadata": {},
     "output_type": "execute_result"
    }
   ],
   "source": [
    "G1.mean()"
   ]
  },
  {
   "cell_type": "code",
   "execution_count": 159,
   "id": "32a774f6",
   "metadata": {},
   "outputs": [],
   "source": [
    "data.G1 = data.G1.fillna(data.G1.mean())"
   ]
  },
  {
   "cell_type": "code",
   "execution_count": 160,
   "id": "ad5d43e6",
   "metadata": {},
   "outputs": [],
   "source": [
    "G2 = data[\"G2\"]"
   ]
  },
  {
   "cell_type": "code",
   "execution_count": 161,
   "id": "32828cb5",
   "metadata": {},
   "outputs": [
    {
     "data": {
      "text/plain": [
       "11.632162661737523"
      ]
     },
     "execution_count": 161,
     "metadata": {},
     "output_type": "execute_result"
    }
   ],
   "source": [
    "G2.mean()"
   ]
  },
  {
   "cell_type": "code",
   "execution_count": 162,
   "id": "3b38a96b",
   "metadata": {},
   "outputs": [],
   "source": [
    "data.G2 = data.G2.fillna(data.G2.mean())"
   ]
  },
  {
   "cell_type": "code",
   "execution_count": 163,
   "id": "e9ff9de9",
   "metadata": {},
   "outputs": [
    {
     "name": "stdout",
     "output_type": "stream",
     "text": [
      "<class 'pandas.core.frame.DataFrame'>\n",
      "RangeIndex: 544 entries, 0 to 543\n",
      "Data columns (total 34 columns):\n",
      " #   Column      Non-Null Count  Dtype  \n",
      "---  ------      --------------  -----  \n",
      " 0   StudentID   544 non-null    int64  \n",
      " 1   school      544 non-null    object \n",
      " 2   sex         544 non-null    object \n",
      " 3   age         544 non-null    int64  \n",
      " 4   address     544 non-null    object \n",
      " 5   famsize     540 non-null    object \n",
      " 6   Pstatus     544 non-null    object \n",
      " 7   Medu        544 non-null    object \n",
      " 8   Fedu        544 non-null    object \n",
      " 9   Mjob        544 non-null    object \n",
      " 10  Fjob        544 non-null    object \n",
      " 11  reason      544 non-null    object \n",
      " 12  guardian    544 non-null    object \n",
      " 13  traveltime  544 non-null    int64  \n",
      " 14  studytime   544 non-null    int64  \n",
      " 15  failures    544 non-null    int64  \n",
      " 16  schoolsup   544 non-null    object \n",
      " 17  famsup      544 non-null    object \n",
      " 18  paid        539 non-null    object \n",
      " 19  activities  544 non-null    object \n",
      " 20  nursery     544 non-null    object \n",
      " 21  higher      544 non-null    object \n",
      " 22  internet    544 non-null    object \n",
      " 23  romantic    544 non-null    object \n",
      " 24  famrel      544 non-null    int64  \n",
      " 25  freetime    544 non-null    int64  \n",
      " 26  goout       544 non-null    int64  \n",
      " 27  Dalc        544 non-null    int64  \n",
      " 28  Walc        544 non-null    int64  \n",
      " 29  health      544 non-null    object \n",
      " 30  absences    544 non-null    int64  \n",
      " 31  G1          544 non-null    float64\n",
      " 32  G2          544 non-null    float64\n",
      " 33  Grade       544 non-null    int64  \n",
      "dtypes: float64(2), int64(12), object(20)\n",
      "memory usage: 144.6+ KB\n"
     ]
    }
   ],
   "source": [
    "data.info()"
   ]
  },
  {
   "cell_type": "code",
   "execution_count": 164,
   "id": "e2606bf8",
   "metadata": {},
   "outputs": [
    {
     "data": {
      "text/html": [
       "<div>\n",
       "<style scoped>\n",
       "    .dataframe tbody tr th:only-of-type {\n",
       "        vertical-align: middle;\n",
       "    }\n",
       "\n",
       "    .dataframe tbody tr th {\n",
       "        vertical-align: top;\n",
       "    }\n",
       "\n",
       "    .dataframe thead th {\n",
       "        text-align: right;\n",
       "    }\n",
       "</style>\n",
       "<table border=\"1\" class=\"dataframe\">\n",
       "  <thead>\n",
       "    <tr style=\"text-align: right;\">\n",
       "      <th></th>\n",
       "      <th>StudentID</th>\n",
       "      <th>age</th>\n",
       "      <th>traveltime</th>\n",
       "      <th>studytime</th>\n",
       "      <th>failures</th>\n",
       "      <th>famrel</th>\n",
       "      <th>freetime</th>\n",
       "      <th>goout</th>\n",
       "      <th>Dalc</th>\n",
       "      <th>Walc</th>\n",
       "      <th>absences</th>\n",
       "      <th>G1</th>\n",
       "      <th>G2</th>\n",
       "      <th>Grade</th>\n",
       "    </tr>\n",
       "  </thead>\n",
       "  <tbody>\n",
       "    <tr>\n",
       "      <th>count</th>\n",
       "      <td>544.000000</td>\n",
       "      <td>544.000000</td>\n",
       "      <td>544.000000</td>\n",
       "      <td>544.000000</td>\n",
       "      <td>544.000000</td>\n",
       "      <td>544.000000</td>\n",
       "      <td>544.000000</td>\n",
       "      <td>544.000000</td>\n",
       "      <td>544.000000</td>\n",
       "      <td>544.000000</td>\n",
       "      <td>544.000000</td>\n",
       "      <td>544.000000</td>\n",
       "      <td>544.000000</td>\n",
       "      <td>544.000000</td>\n",
       "    </tr>\n",
       "    <tr>\n",
       "      <th>mean</th>\n",
       "      <td>545647.773897</td>\n",
       "      <td>17.121324</td>\n",
       "      <td>1.577206</td>\n",
       "      <td>1.904412</td>\n",
       "      <td>0.220588</td>\n",
       "      <td>4.003676</td>\n",
       "      <td>3.198529</td>\n",
       "      <td>3.181985</td>\n",
       "      <td>1.509191</td>\n",
       "      <td>2.283088</td>\n",
       "      <td>3.738971</td>\n",
       "      <td>11.240296</td>\n",
       "      <td>11.632163</td>\n",
       "      <td>11.757353</td>\n",
       "    </tr>\n",
       "    <tr>\n",
       "      <th>std</th>\n",
       "      <td>260288.577310</td>\n",
       "      <td>6.399815</td>\n",
       "      <td>0.763771</td>\n",
       "      <td>0.813140</td>\n",
       "      <td>0.581370</td>\n",
       "      <td>2.198272</td>\n",
       "      <td>1.072474</td>\n",
       "      <td>1.269404</td>\n",
       "      <td>0.955698</td>\n",
       "      <td>1.296265</td>\n",
       "      <td>4.790440</td>\n",
       "      <td>2.703508</td>\n",
       "      <td>5.496324</td>\n",
       "      <td>3.274425</td>\n",
       "    </tr>\n",
       "    <tr>\n",
       "      <th>min</th>\n",
       "      <td>104000.000000</td>\n",
       "      <td>6.000000</td>\n",
       "      <td>1.000000</td>\n",
       "      <td>1.000000</td>\n",
       "      <td>0.000000</td>\n",
       "      <td>1.000000</td>\n",
       "      <td>1.000000</td>\n",
       "      <td>-5.000000</td>\n",
       "      <td>1.000000</td>\n",
       "      <td>1.000000</td>\n",
       "      <td>0.000000</td>\n",
       "      <td>0.000000</td>\n",
       "      <td>0.000000</td>\n",
       "      <td>0.000000</td>\n",
       "    </tr>\n",
       "    <tr>\n",
       "      <th>25%</th>\n",
       "      <td>314137.000000</td>\n",
       "      <td>16.000000</td>\n",
       "      <td>1.000000</td>\n",
       "      <td>1.000000</td>\n",
       "      <td>0.000000</td>\n",
       "      <td>4.000000</td>\n",
       "      <td>3.000000</td>\n",
       "      <td>2.000000</td>\n",
       "      <td>1.000000</td>\n",
       "      <td>1.000000</td>\n",
       "      <td>0.000000</td>\n",
       "      <td>9.000000</td>\n",
       "      <td>10.000000</td>\n",
       "      <td>10.000000</td>\n",
       "    </tr>\n",
       "    <tr>\n",
       "      <th>50%</th>\n",
       "      <td>546997.000000</td>\n",
       "      <td>17.000000</td>\n",
       "      <td>1.000000</td>\n",
       "      <td>2.000000</td>\n",
       "      <td>0.000000</td>\n",
       "      <td>4.000000</td>\n",
       "      <td>3.000000</td>\n",
       "      <td>3.000000</td>\n",
       "      <td>1.000000</td>\n",
       "      <td>2.000000</td>\n",
       "      <td>2.000000</td>\n",
       "      <td>11.000000</td>\n",
       "      <td>11.000000</td>\n",
       "      <td>12.000000</td>\n",
       "    </tr>\n",
       "    <tr>\n",
       "      <th>75%</th>\n",
       "      <td>764553.750000</td>\n",
       "      <td>18.000000</td>\n",
       "      <td>2.000000</td>\n",
       "      <td>2.000000</td>\n",
       "      <td>0.000000</td>\n",
       "      <td>5.000000</td>\n",
       "      <td>4.000000</td>\n",
       "      <td>4.000000</td>\n",
       "      <td>2.000000</td>\n",
       "      <td>3.000000</td>\n",
       "      <td>6.000000</td>\n",
       "      <td>13.000000</td>\n",
       "      <td>13.000000</td>\n",
       "      <td>14.000000</td>\n",
       "    </tr>\n",
       "    <tr>\n",
       "      <th>max</th>\n",
       "      <td>999684.000000</td>\n",
       "      <td>150.000000</td>\n",
       "      <td>4.000000</td>\n",
       "      <td>4.000000</td>\n",
       "      <td>3.000000</td>\n",
       "      <td>50.000000</td>\n",
       "      <td>5.000000</td>\n",
       "      <td>5.000000</td>\n",
       "      <td>5.000000</td>\n",
       "      <td>5.000000</td>\n",
       "      <td>32.000000</td>\n",
       "      <td>18.000000</td>\n",
       "      <td>120.000000</td>\n",
       "      <td>19.000000</td>\n",
       "    </tr>\n",
       "  </tbody>\n",
       "</table>\n",
       "</div>"
      ],
      "text/plain": [
       "           StudentID         age  traveltime   studytime    failures  \\\n",
       "count     544.000000  544.000000  544.000000  544.000000  544.000000   \n",
       "mean   545647.773897   17.121324    1.577206    1.904412    0.220588   \n",
       "std    260288.577310    6.399815    0.763771    0.813140    0.581370   \n",
       "min    104000.000000    6.000000    1.000000    1.000000    0.000000   \n",
       "25%    314137.000000   16.000000    1.000000    1.000000    0.000000   \n",
       "50%    546997.000000   17.000000    1.000000    2.000000    0.000000   \n",
       "75%    764553.750000   18.000000    2.000000    2.000000    0.000000   \n",
       "max    999684.000000  150.000000    4.000000    4.000000    3.000000   \n",
       "\n",
       "           famrel    freetime       goout        Dalc        Walc    absences  \\\n",
       "count  544.000000  544.000000  544.000000  544.000000  544.000000  544.000000   \n",
       "mean     4.003676    3.198529    3.181985    1.509191    2.283088    3.738971   \n",
       "std      2.198272    1.072474    1.269404    0.955698    1.296265    4.790440   \n",
       "min      1.000000    1.000000   -5.000000    1.000000    1.000000    0.000000   \n",
       "25%      4.000000    3.000000    2.000000    1.000000    1.000000    0.000000   \n",
       "50%      4.000000    3.000000    3.000000    1.000000    2.000000    2.000000   \n",
       "75%      5.000000    4.000000    4.000000    2.000000    3.000000    6.000000   \n",
       "max     50.000000    5.000000    5.000000    5.000000    5.000000   32.000000   \n",
       "\n",
       "               G1          G2       Grade  \n",
       "count  544.000000  544.000000  544.000000  \n",
       "mean    11.240296   11.632163   11.757353  \n",
       "std      2.703508    5.496324    3.274425  \n",
       "min      0.000000    0.000000    0.000000  \n",
       "25%      9.000000   10.000000   10.000000  \n",
       "50%     11.000000   11.000000   12.000000  \n",
       "75%     13.000000   13.000000   14.000000  \n",
       "max     18.000000  120.000000   19.000000  "
      ]
     },
     "execution_count": 164,
     "metadata": {},
     "output_type": "execute_result"
    }
   ],
   "source": [
    "data.describe()"
   ]
  },
  {
   "cell_type": "code",
   "execution_count": 165,
   "id": "809c2c2c",
   "metadata": {},
   "outputs": [
    {
     "data": {
      "text/plain": [
       "<seaborn.axisgrid.JointGrid at 0x1a1b3a3bfd0>"
      ]
     },
     "execution_count": 165,
     "metadata": {},
     "output_type": "execute_result"
    },
    {
     "data": {
      "image/png": "[encoded data removed]",
      "text/plain": [
       "<Figure size 600x600 with 3 Axes>"
      ]
     },
     "metadata": {},
     "output_type": "display_data"
    }
   ],
   "source": [
    "sns.jointplot(x='age', y='Grade', data=data)"
   ]
  },
  {
   "cell_type": "code",
   "execution_count": 166,
   "id": "483b0818",
   "metadata": {},
   "outputs": [
    {
     "data": {
      "text/plain": [
       "20.0"
      ]
     },
     "execution_count": 166,
     "metadata": {},
     "output_type": "execute_result"
    }
   ],
   "source": [
    "np.percentile(data.age,[99])[0]"
   ]
  },
  {
   "cell_type": "code",
   "execution_count": 167,
   "id": "1f563496",
   "metadata": {},
   "outputs": [
    {
     "data": {
      "text/plain": [
       "5.0"
      ]
     },
     "execution_count": 167,
     "metadata": {},
     "output_type": "execute_result"
    }
   ],
   "source": [
    "np.percentile(data.famrel,[99])[0]"
   ]
  },
  {
   "cell_type": "code",
   "execution_count": 168,
   "id": "d5de126b",
   "metadata": {},
   "outputs": [
    {
     "data": {
      "text/plain": [
       "5.0"
      ]
     },
     "execution_count": 168,
     "metadata": {},
     "output_type": "execute_result"
    }
   ],
   "source": [
    "np.percentile(data.goout,[99])[0]"
   ]
  },
  {
   "cell_type": "code",
   "execution_count": 169,
   "id": "efe7de02",
   "metadata": {},
   "outputs": [
    {
     "data": {
      "text/plain": [
       "21.57000000000005"
      ]
     },
     "execution_count": 169,
     "metadata": {},
     "output_type": "execute_result"
    }
   ],
   "source": [
    "np.percentile(data.absences,[99])[0]"
   ]
  },
  {
   "cell_type": "code",
   "execution_count": 170,
   "id": "093a1777",
   "metadata": {},
   "outputs": [
    {
     "data": {
      "text/plain": [
       "18.0"
      ]
     },
     "execution_count": 170,
     "metadata": {},
     "output_type": "execute_result"
    }
   ],
   "source": [
    "np.percentile(data.G2,[99])[0]"
   ]
  },
  {
   "cell_type": "code",
   "execution_count": 171,
   "id": "93a9d6c8",
   "metadata": {},
   "outputs": [],
   "source": [
    "uv = np.percentile(data.age,[99])[0]"
   ]
  },
  {
   "cell_type": "code",
   "execution_count": 172,
   "id": "e8f115b6",
   "metadata": {},
   "outputs": [
    {
     "data": {
      "text/html": [
       "<div>\n",
       "<style scoped>\n",
       "    .dataframe tbody tr th:only-of-type {\n",
       "        vertical-align: middle;\n",
       "    }\n",
       "\n",
       "    .dataframe tbody tr th {\n",
       "        vertical-align: top;\n",
       "    }\n",
       "\n",
       "    .dataframe thead th {\n",
       "        text-align: right;\n",
       "    }\n",
       "</style>\n",
       "<table border=\"1\" class=\"dataframe\">\n",
       "  <thead>\n",
       "    <tr style=\"text-align: right;\">\n",
       "      <th></th>\n",
       "      <th>StudentID</th>\n",
       "      <th>school</th>\n",
       "      <th>sex</th>\n",
       "      <th>age</th>\n",
       "      <th>address</th>\n",
       "      <th>famsize</th>\n",
       "      <th>Pstatus</th>\n",
       "      <th>Medu</th>\n",
       "      <th>Fedu</th>\n",
       "      <th>Mjob</th>\n",
       "      <th>...</th>\n",
       "      <th>famrel</th>\n",
       "      <th>freetime</th>\n",
       "      <th>goout</th>\n",
       "      <th>Dalc</th>\n",
       "      <th>Walc</th>\n",
       "      <th>health</th>\n",
       "      <th>absences</th>\n",
       "      <th>G1</th>\n",
       "      <th>G2</th>\n",
       "      <th>Grade</th>\n",
       "    </tr>\n",
       "  </thead>\n",
       "  <tbody>\n",
       "    <tr>\n",
       "      <th>45</th>\n",
       "      <td>567281</td>\n",
       "      <td>GP</td>\n",
       "      <td>M</td>\n",
       "      <td>150</td>\n",
       "      <td>U</td>\n",
       "      <td>GT3</td>\n",
       "      <td>A</td>\n",
       "      <td>Tertiary education</td>\n",
       "      <td>Postgraduate education</td>\n",
       "      <td>services</td>\n",
       "      <td>...</td>\n",
       "      <td>5</td>\n",
       "      <td>4</td>\n",
       "      <td>4</td>\n",
       "      <td>1</td>\n",
       "      <td>1</td>\n",
       "      <td>very bad</td>\n",
       "      <td>0</td>\n",
       "      <td>16.0</td>\n",
       "      <td>16.0</td>\n",
       "      <td>16</td>\n",
       "    </tr>\n",
       "    <tr>\n",
       "      <th>232</th>\n",
       "      <td>584963</td>\n",
       "      <td>MS</td>\n",
       "      <td>F</td>\n",
       "      <td>77</td>\n",
       "      <td>U</td>\n",
       "      <td>GT3</td>\n",
       "      <td>T</td>\n",
       "      <td>Postgraduate education</td>\n",
       "      <td>Secondary education</td>\n",
       "      <td>teacher</td>\n",
       "      <td>...</td>\n",
       "      <td>5</td>\n",
       "      <td>5</td>\n",
       "      <td>5</td>\n",
       "      <td>1</td>\n",
       "      <td>3</td>\n",
       "      <td>very good</td>\n",
       "      <td>0</td>\n",
       "      <td>8.0</td>\n",
       "      <td>8.0</td>\n",
       "      <td>0</td>\n",
       "    </tr>\n",
       "    <tr>\n",
       "      <th>285</th>\n",
       "      <td>730271</td>\n",
       "      <td>GP</td>\n",
       "      <td>F</td>\n",
       "      <td>21</td>\n",
       "      <td>U</td>\n",
       "      <td>LE3</td>\n",
       "      <td>T</td>\n",
       "      <td>Postgraduate education</td>\n",
       "      <td>Postgraduate education</td>\n",
       "      <td>other</td>\n",
       "      <td>...</td>\n",
       "      <td>3</td>\n",
       "      <td>3</td>\n",
       "      <td>2</td>\n",
       "      <td>1</td>\n",
       "      <td>1</td>\n",
       "      <td>very good</td>\n",
       "      <td>0</td>\n",
       "      <td>9.0</td>\n",
       "      <td>12.0</td>\n",
       "      <td>12</td>\n",
       "    </tr>\n",
       "    <tr>\n",
       "      <th>336</th>\n",
       "      <td>658986</td>\n",
       "      <td>GP</td>\n",
       "      <td>M</td>\n",
       "      <td>22</td>\n",
       "      <td>U</td>\n",
       "      <td>GT3</td>\n",
       "      <td>T</td>\n",
       "      <td>Tertiary education</td>\n",
       "      <td>Primary education</td>\n",
       "      <td>services</td>\n",
       "      <td>...</td>\n",
       "      <td>5</td>\n",
       "      <td>4</td>\n",
       "      <td>5</td>\n",
       "      <td>5</td>\n",
       "      <td>5</td>\n",
       "      <td>very bad</td>\n",
       "      <td>12</td>\n",
       "      <td>7.0</td>\n",
       "      <td>8.0</td>\n",
       "      <td>5</td>\n",
       "    </tr>\n",
       "    <tr>\n",
       "      <th>524</th>\n",
       "      <td>398356</td>\n",
       "      <td>GP</td>\n",
       "      <td>M</td>\n",
       "      <td>21</td>\n",
       "      <td>R</td>\n",
       "      <td>LE3</td>\n",
       "      <td>T</td>\n",
       "      <td>Primary education</td>\n",
       "      <td>Primary education</td>\n",
       "      <td>at_home</td>\n",
       "      <td>...</td>\n",
       "      <td>5</td>\n",
       "      <td>3</td>\n",
       "      <td>3</td>\n",
       "      <td>5</td>\n",
       "      <td>2</td>\n",
       "      <td>good</td>\n",
       "      <td>21</td>\n",
       "      <td>9.0</td>\n",
       "      <td>10.0</td>\n",
       "      <td>10</td>\n",
       "    </tr>\n",
       "  </tbody>\n",
       "</table>\n",
       "<p>5 rows × 34 columns</p>\n",
       "</div>"
      ],
      "text/plain": [
       "     StudentID school sex  age address famsize Pstatus  \\\n",
       "45      567281     GP   M  150       U     GT3       A   \n",
       "232     584963     MS   F   77       U     GT3       T   \n",
       "285     730271     GP   F   21       U     LE3       T   \n",
       "336     658986     GP   M   22       U     GT3       T   \n",
       "524     398356     GP   M   21       R     LE3       T   \n",
       "\n",
       "                       Medu                    Fedu      Mjob  ... famrel  \\\n",
       "45       Tertiary education  Postgraduate education  services  ...      5   \n",
       "232  Postgraduate education     Secondary education   teacher  ...      5   \n",
       "285  Postgraduate education  Postgraduate education     other  ...      3   \n",
       "336      Tertiary education       Primary education  services  ...      5   \n",
       "524       Primary education       Primary education   at_home  ...      5   \n",
       "\n",
       "    freetime goout  Dalc  Walc     health absences    G1    G2 Grade  \n",
       "45         4     4     1     1   very bad        0  16.0  16.0    16  \n",
       "232        5     5     1     3  very good        0   8.0   8.0     0  \n",
       "285        3     2     1     1  very good        0   9.0  12.0    12  \n",
       "336        4     5     5     5   very bad       12   7.0   8.0     5  \n",
       "524        3     3     5     2       good       21   9.0  10.0    10  \n",
       "\n",
       "[5 rows x 34 columns]"
      ]
     },
     "execution_count": 172,
     "metadata": {},
     "output_type": "execute_result"
    }
   ],
   "source": [
    "data[(data.age>uv)]"
   ]
  },
  {
   "cell_type": "code",
   "execution_count": 173,
   "id": "818e4fdf",
   "metadata": {},
   "outputs": [
    {
     "data": {
      "text/plain": [
       "<seaborn.axisgrid.JointGrid at 0x1a1b3a3ae00>"
      ]
     },
     "execution_count": 173,
     "metadata": {},
     "output_type": "execute_result"
    },
    {
     "data": {
      "image/png": "[encoded data removed]",
      "text/plain": [
       "<Figure size 600x600 with 3 Axes>"
      ]
     },
     "metadata": {},
     "output_type": "display_data"
    }
   ],
   "source": [
    "sns.jointplot(x='age', y='Grade', data=data)"
   ]
  },
  {
   "cell_type": "code",
   "execution_count": 174,
   "id": "58dd8378",
   "metadata": {},
   "outputs": [],
   "source": [
    "uv = np.percentile(data.famrel,[99])[0]"
   ]
  },
  {
   "cell_type": "code",
   "execution_count": 175,
   "id": "61bfa38a",
   "metadata": {},
   "outputs": [
    {
     "data": {
      "text/html": [
       "<div>\n",
       "<style scoped>\n",
       "    .dataframe tbody tr th:only-of-type {\n",
       "        vertical-align: middle;\n",
       "    }\n",
       "\n",
       "    .dataframe tbody tr th {\n",
       "        vertical-align: top;\n",
       "    }\n",
       "\n",
       "    .dataframe thead th {\n",
       "        text-align: right;\n",
       "    }\n",
       "</style>\n",
       "<table border=\"1\" class=\"dataframe\">\n",
       "  <thead>\n",
       "    <tr style=\"text-align: right;\">\n",
       "      <th></th>\n",
       "      <th>StudentID</th>\n",
       "      <th>school</th>\n",
       "      <th>sex</th>\n",
       "      <th>age</th>\n",
       "      <th>address</th>\n",
       "      <th>famsize</th>\n",
       "      <th>Pstatus</th>\n",
       "      <th>Medu</th>\n",
       "      <th>Fedu</th>\n",
       "      <th>Mjob</th>\n",
       "      <th>...</th>\n",
       "      <th>famrel</th>\n",
       "      <th>freetime</th>\n",
       "      <th>goout</th>\n",
       "      <th>Dalc</th>\n",
       "      <th>Walc</th>\n",
       "      <th>health</th>\n",
       "      <th>absences</th>\n",
       "      <th>G1</th>\n",
       "      <th>G2</th>\n",
       "      <th>Grade</th>\n",
       "    </tr>\n",
       "  </thead>\n",
       "  <tbody>\n",
       "    <tr>\n",
       "      <th>543</th>\n",
       "      <td>123247</td>\n",
       "      <td>GP</td>\n",
       "      <td>M</td>\n",
       "      <td>15</td>\n",
       "      <td>U</td>\n",
       "      <td>GT3</td>\n",
       "      <td>T</td>\n",
       "      <td>Postgraduate education</td>\n",
       "      <td>Postgraduate education</td>\n",
       "      <td>services</td>\n",
       "      <td>...</td>\n",
       "      <td>50</td>\n",
       "      <td>3</td>\n",
       "      <td>3</td>\n",
       "      <td>1</td>\n",
       "      <td>1</td>\n",
       "      <td>very good</td>\n",
       "      <td>2</td>\n",
       "      <td>12.0</td>\n",
       "      <td>13.0</td>\n",
       "      <td>12</td>\n",
       "    </tr>\n",
       "  </tbody>\n",
       "</table>\n",
       "<p>1 rows × 34 columns</p>\n",
       "</div>"
      ],
      "text/plain": [
       "     StudentID school sex  age address famsize Pstatus  \\\n",
       "543     123247     GP   M   15       U     GT3       T   \n",
       "\n",
       "                       Medu                    Fedu      Mjob  ... famrel  \\\n",
       "543  Postgraduate education  Postgraduate education  services  ...     50   \n",
       "\n",
       "    freetime goout  Dalc  Walc     health absences    G1    G2 Grade  \n",
       "543        3     3     1     1  very good        2  12.0  13.0    12  \n",
       "\n",
       "[1 rows x 34 columns]"
      ]
     },
     "execution_count": 175,
     "metadata": {},
     "output_type": "execute_result"
    }
   ],
   "source": [
    "data[(data.famrel>uv)]"
   ]
  },
  {
   "cell_type": "code",
   "execution_count": 176,
   "id": "404d61d6",
   "metadata": {},
   "outputs": [
    {
     "data": {
      "text/plain": [
       "<seaborn.axisgrid.JointGrid at 0x1a1b5712170>"
      ]
     },
     "execution_count": 176,
     "metadata": {},
     "output_type": "execute_result"
    },
    {
     "data": {
      "image/png": "[encoded data removed]",
      "text/plain": [
       "<Figure size 600x600 with 3 Axes>"
      ]
     },
     "metadata": {},
     "output_type": "display_data"
    }
   ],
   "source": [
    "sns.jointplot(x='famrel', y='Grade', data=data)"
   ]
  },
  {
   "cell_type": "code",
   "execution_count": 177,
   "id": "ca6468e1",
   "metadata": {},
   "outputs": [
    {
     "data": {
      "text/plain": [
       "1.0"
      ]
     },
     "execution_count": 177,
     "metadata": {},
     "output_type": "execute_result"
    }
   ],
   "source": [
    "np.percentile(data.goout,[1])[0]"
   ]
  },
  {
   "cell_type": "code",
   "execution_count": 178,
   "id": "9d633a9b",
   "metadata": {},
   "outputs": [],
   "source": [
    "lv =np.percentile(data.goout,[1])[0]"
   ]
  },
  {
   "cell_type": "code",
   "execution_count": 179,
   "id": "1734830b",
   "metadata": {},
   "outputs": [
    {
     "data": {
      "text/html": [
       "<div>\n",
       "<style scoped>\n",
       "    .dataframe tbody tr th:only-of-type {\n",
       "        vertical-align: middle;\n",
       "    }\n",
       "\n",
       "    .dataframe tbody tr th {\n",
       "        vertical-align: top;\n",
       "    }\n",
       "\n",
       "    .dataframe thead th {\n",
       "        text-align: right;\n",
       "    }\n",
       "</style>\n",
       "<table border=\"1\" class=\"dataframe\">\n",
       "  <thead>\n",
       "    <tr style=\"text-align: right;\">\n",
       "      <th></th>\n",
       "      <th>StudentID</th>\n",
       "      <th>school</th>\n",
       "      <th>sex</th>\n",
       "      <th>age</th>\n",
       "      <th>address</th>\n",
       "      <th>famsize</th>\n",
       "      <th>Pstatus</th>\n",
       "      <th>Medu</th>\n",
       "      <th>Fedu</th>\n",
       "      <th>Mjob</th>\n",
       "      <th>...</th>\n",
       "      <th>famrel</th>\n",
       "      <th>freetime</th>\n",
       "      <th>goout</th>\n",
       "      <th>Dalc</th>\n",
       "      <th>Walc</th>\n",
       "      <th>health</th>\n",
       "      <th>absences</th>\n",
       "      <th>G1</th>\n",
       "      <th>G2</th>\n",
       "      <th>Grade</th>\n",
       "    </tr>\n",
       "  </thead>\n",
       "  <tbody>\n",
       "    <tr>\n",
       "      <th>431</th>\n",
       "      <td>460032</td>\n",
       "      <td>GP</td>\n",
       "      <td>F</td>\n",
       "      <td>17</td>\n",
       "      <td>U</td>\n",
       "      <td>GT3</td>\n",
       "      <td>A</td>\n",
       "      <td>Secondary education</td>\n",
       "      <td>Secondary education</td>\n",
       "      <td>at_home</td>\n",
       "      <td>...</td>\n",
       "      <td>3</td>\n",
       "      <td>3</td>\n",
       "      <td>-1</td>\n",
       "      <td>1</td>\n",
       "      <td>2</td>\n",
       "      <td>good</td>\n",
       "      <td>18</td>\n",
       "      <td>10.0</td>\n",
       "      <td>12.0</td>\n",
       "      <td>14</td>\n",
       "    </tr>\n",
       "    <tr>\n",
       "      <th>455</th>\n",
       "      <td>788519</td>\n",
       "      <td>GP</td>\n",
       "      <td>M</td>\n",
       "      <td>16</td>\n",
       "      <td>R</td>\n",
       "      <td>GT3</td>\n",
       "      <td>T</td>\n",
       "      <td>Postgraduate education</td>\n",
       "      <td>Postgraduate education</td>\n",
       "      <td>teacher</td>\n",
       "      <td>...</td>\n",
       "      <td>3</td>\n",
       "      <td>5</td>\n",
       "      <td>-5</td>\n",
       "      <td>2</td>\n",
       "      <td>5</td>\n",
       "      <td>good</td>\n",
       "      <td>8</td>\n",
       "      <td>14.0</td>\n",
       "      <td>14.0</td>\n",
       "      <td>15</td>\n",
       "    </tr>\n",
       "    <tr>\n",
       "      <th>535</th>\n",
       "      <td>653880</td>\n",
       "      <td>MS</td>\n",
       "      <td>M</td>\n",
       "      <td>15</td>\n",
       "      <td>U</td>\n",
       "      <td>GT3</td>\n",
       "      <td>T</td>\n",
       "      <td>Tertiary education</td>\n",
       "      <td>Primary education</td>\n",
       "      <td>other</td>\n",
       "      <td>...</td>\n",
       "      <td>3</td>\n",
       "      <td>2</td>\n",
       "      <td>-3</td>\n",
       "      <td>1</td>\n",
       "      <td>3</td>\n",
       "      <td>good</td>\n",
       "      <td>0</td>\n",
       "      <td>10.0</td>\n",
       "      <td>9.0</td>\n",
       "      <td>11</td>\n",
       "    </tr>\n",
       "  </tbody>\n",
       "</table>\n",
       "<p>3 rows × 34 columns</p>\n",
       "</div>"
      ],
      "text/plain": [
       "     StudentID school sex  age address famsize Pstatus  \\\n",
       "431     460032     GP   F   17       U     GT3       A   \n",
       "455     788519     GP   M   16       R     GT3       T   \n",
       "535     653880     MS   M   15       U     GT3       T   \n",
       "\n",
       "                       Medu                    Fedu     Mjob  ... famrel  \\\n",
       "431     Secondary education     Secondary education  at_home  ...      3   \n",
       "455  Postgraduate education  Postgraduate education  teacher  ...      3   \n",
       "535      Tertiary education       Primary education    other  ...      3   \n",
       "\n",
       "    freetime goout  Dalc  Walc  health absences    G1    G2 Grade  \n",
       "431        3    -1     1     2    good       18  10.0  12.0    14  \n",
       "455        5    -5     2     5    good        8  14.0  14.0    15  \n",
       "535        2    -3     1     3    good        0  10.0   9.0    11  \n",
       "\n",
       "[3 rows x 34 columns]"
      ]
     },
     "execution_count": 179,
     "metadata": {},
     "output_type": "execute_result"
    }
   ],
   "source": [
    "data[(data.goout< lv)]"
   ]
  },
  {
   "cell_type": "code",
   "execution_count": 180,
   "id": "b32ec28d",
   "metadata": {},
   "outputs": [
    {
     "name": "stderr",
     "output_type": "stream",
     "text": [
      "C:\\Users\\PC\\AppData\\Local\\Temp\\ipykernel_34876\\2265512505.py:1: SettingWithCopyWarning: \n",
      "A value is trying to be set on a copy of a slice from a DataFrame\n",
      "\n",
      "See the caveats in the documentation: https://pandas.pydata.org/pandas-docs/stable/user_guide/indexing.html#returning-a-view-versus-a-copy\n",
      "  data.goout[(data.goout<0.3*lv)] = 3*lv\n"
     ]
    }
   ],
   "source": [
    "data.goout[(data.goout<0.3*lv)] = 3*lv"
   ]
  },
  {
   "cell_type": "code",
   "execution_count": 181,
   "id": "49e19ffe",
   "metadata": {},
   "outputs": [
    {
     "data": {
      "text/plain": [
       "<seaborn.axisgrid.JointGrid at 0x1a1b3732710>"
      ]
     },
     "execution_count": 181,
     "metadata": {},
     "output_type": "execute_result"
    },
    {
     "data": {
      "image/png": "[encoded data removed]",
      "text/plain": [
       "<Figure size 600x600 with 3 Axes>"
      ]
     },
     "metadata": {},
     "output_type": "display_data"
    }
   ],
   "source": [
    "sns.jointplot(x=\"goout\", y='Grade', data=data)"
   ]
  },
  {
   "cell_type": "code",
   "execution_count": 182,
   "id": "ee153073",
   "metadata": {},
   "outputs": [],
   "source": [
    "uv = np.percentile(data.absences,[99])[0]"
   ]
  },
  {
   "cell_type": "code",
   "execution_count": 183,
   "id": "943d9f0f",
   "metadata": {},
   "outputs": [
    {
     "data": {
      "text/html": [
       "<div>\n",
       "<style scoped>\n",
       "    .dataframe tbody tr th:only-of-type {\n",
       "        vertical-align: middle;\n",
       "    }\n",
       "\n",
       "    .dataframe tbody tr th {\n",
       "        vertical-align: top;\n",
       "    }\n",
       "\n",
       "    .dataframe thead th {\n",
       "        text-align: right;\n",
       "    }\n",
       "</style>\n",
       "<table border=\"1\" class=\"dataframe\">\n",
       "  <thead>\n",
       "    <tr style=\"text-align: right;\">\n",
       "      <th></th>\n",
       "      <th>StudentID</th>\n",
       "      <th>school</th>\n",
       "      <th>sex</th>\n",
       "      <th>age</th>\n",
       "      <th>address</th>\n",
       "      <th>famsize</th>\n",
       "      <th>Pstatus</th>\n",
       "      <th>Medu</th>\n",
       "      <th>Fedu</th>\n",
       "      <th>Mjob</th>\n",
       "      <th>...</th>\n",
       "      <th>famrel</th>\n",
       "      <th>freetime</th>\n",
       "      <th>goout</th>\n",
       "      <th>Dalc</th>\n",
       "      <th>Walc</th>\n",
       "      <th>health</th>\n",
       "      <th>absences</th>\n",
       "      <th>G1</th>\n",
       "      <th>G2</th>\n",
       "      <th>Grade</th>\n",
       "    </tr>\n",
       "  </thead>\n",
       "  <tbody>\n",
       "    <tr>\n",
       "      <th>13</th>\n",
       "      <td>752664</td>\n",
       "      <td>GP</td>\n",
       "      <td>F</td>\n",
       "      <td>17</td>\n",
       "      <td>U</td>\n",
       "      <td>GT3</td>\n",
       "      <td>T</td>\n",
       "      <td>Postgraduate education</td>\n",
       "      <td>Postgraduate education</td>\n",
       "      <td>services</td>\n",
       "      <td>...</td>\n",
       "      <td>4</td>\n",
       "      <td>2</td>\n",
       "      <td>4</td>\n",
       "      <td>2</td>\n",
       "      <td>3</td>\n",
       "      <td>bad</td>\n",
       "      <td>30</td>\n",
       "      <td>14.0</td>\n",
       "      <td>15.0</td>\n",
       "      <td>16</td>\n",
       "    </tr>\n",
       "    <tr>\n",
       "      <th>47</th>\n",
       "      <td>999684</td>\n",
       "      <td>GP</td>\n",
       "      <td>M</td>\n",
       "      <td>17</td>\n",
       "      <td>U</td>\n",
       "      <td>GT3</td>\n",
       "      <td>T</td>\n",
       "      <td>Secondary education</td>\n",
       "      <td>Primary education</td>\n",
       "      <td>other</td>\n",
       "      <td>...</td>\n",
       "      <td>5</td>\n",
       "      <td>4</td>\n",
       "      <td>5</td>\n",
       "      <td>1</td>\n",
       "      <td>2</td>\n",
       "      <td>very good</td>\n",
       "      <td>22</td>\n",
       "      <td>9.0</td>\n",
       "      <td>7.0</td>\n",
       "      <td>6</td>\n",
       "    </tr>\n",
       "    <tr>\n",
       "      <th>86</th>\n",
       "      <td>369536</td>\n",
       "      <td>GP</td>\n",
       "      <td>M</td>\n",
       "      <td>18</td>\n",
       "      <td>U</td>\n",
       "      <td>GT3</td>\n",
       "      <td>T</td>\n",
       "      <td>Secondary education</td>\n",
       "      <td>Secondary education</td>\n",
       "      <td>other</td>\n",
       "      <td>...</td>\n",
       "      <td>4</td>\n",
       "      <td>4</td>\n",
       "      <td>3</td>\n",
       "      <td>2</td>\n",
       "      <td>2</td>\n",
       "      <td>very bad</td>\n",
       "      <td>26</td>\n",
       "      <td>7.0</td>\n",
       "      <td>8.0</td>\n",
       "      <td>8</td>\n",
       "    </tr>\n",
       "    <tr>\n",
       "      <th>304</th>\n",
       "      <td>373109</td>\n",
       "      <td>GP</td>\n",
       "      <td>F</td>\n",
       "      <td>15</td>\n",
       "      <td>U</td>\n",
       "      <td>GT3</td>\n",
       "      <td>A</td>\n",
       "      <td>Tertiary education</td>\n",
       "      <td>Tertiary education</td>\n",
       "      <td>services</td>\n",
       "      <td>...</td>\n",
       "      <td>1</td>\n",
       "      <td>3</td>\n",
       "      <td>2</td>\n",
       "      <td>2</td>\n",
       "      <td>3</td>\n",
       "      <td>very bad</td>\n",
       "      <td>24</td>\n",
       "      <td>9.0</td>\n",
       "      <td>8.0</td>\n",
       "      <td>9</td>\n",
       "    </tr>\n",
       "    <tr>\n",
       "      <th>324</th>\n",
       "      <td>786976</td>\n",
       "      <td>GP</td>\n",
       "      <td>M</td>\n",
       "      <td>17</td>\n",
       "      <td>U</td>\n",
       "      <td>LE3</td>\n",
       "      <td>A</td>\n",
       "      <td>Postgraduate education</td>\n",
       "      <td>Primary education</td>\n",
       "      <td>services</td>\n",
       "      <td>...</td>\n",
       "      <td>4</td>\n",
       "      <td>5</td>\n",
       "      <td>4</td>\n",
       "      <td>2</td>\n",
       "      <td>4</td>\n",
       "      <td>very good</td>\n",
       "      <td>22</td>\n",
       "      <td>11.0</td>\n",
       "      <td>11.0</td>\n",
       "      <td>10</td>\n",
       "    </tr>\n",
       "    <tr>\n",
       "      <th>396</th>\n",
       "      <td>626981</td>\n",
       "      <td>GP</td>\n",
       "      <td>F</td>\n",
       "      <td>17</td>\n",
       "      <td>U</td>\n",
       "      <td>LE3</td>\n",
       "      <td>T</td>\n",
       "      <td>Tertiary education</td>\n",
       "      <td>Tertiary education</td>\n",
       "      <td>other</td>\n",
       "      <td>...</td>\n",
       "      <td>5</td>\n",
       "      <td>3</td>\n",
       "      <td>3</td>\n",
       "      <td>2</td>\n",
       "      <td>3</td>\n",
       "      <td>very bad</td>\n",
       "      <td>32</td>\n",
       "      <td>14.0</td>\n",
       "      <td>13.0</td>\n",
       "      <td>14</td>\n",
       "    </tr>\n",
       "  </tbody>\n",
       "</table>\n",
       "<p>6 rows × 34 columns</p>\n",
       "</div>"
      ],
      "text/plain": [
       "     StudentID school sex  age address famsize Pstatus  \\\n",
       "13      752664     GP   F   17       U     GT3       T   \n",
       "47      999684     GP   M   17       U     GT3       T   \n",
       "86      369536     GP   M   18       U     GT3       T   \n",
       "304     373109     GP   F   15       U     GT3       A   \n",
       "324     786976     GP   M   17       U     LE3       A   \n",
       "396     626981     GP   F   17       U     LE3       T   \n",
       "\n",
       "                       Medu                    Fedu      Mjob  ... famrel  \\\n",
       "13   Postgraduate education  Postgraduate education  services  ...      4   \n",
       "47      Secondary education       Primary education     other  ...      5   \n",
       "86      Secondary education     Secondary education     other  ...      4   \n",
       "304      Tertiary education      Tertiary education  services  ...      1   \n",
       "324  Postgraduate education       Primary education  services  ...      4   \n",
       "396      Tertiary education      Tertiary education     other  ...      5   \n",
       "\n",
       "    freetime goout  Dalc  Walc     health absences    G1    G2 Grade  \n",
       "13         2     4     2     3        bad       30  14.0  15.0    16  \n",
       "47         4     5     1     2  very good       22   9.0   7.0     6  \n",
       "86         4     3     2     2   very bad       26   7.0   8.0     8  \n",
       "304        3     2     2     3   very bad       24   9.0   8.0     9  \n",
       "324        5     4     2     4  very good       22  11.0  11.0    10  \n",
       "396        3     3     2     3   very bad       32  14.0  13.0    14  \n",
       "\n",
       "[6 rows x 34 columns]"
      ]
     },
     "execution_count": 183,
     "metadata": {},
     "output_type": "execute_result"
    }
   ],
   "source": [
    "data[(data.absences>uv)]"
   ]
  },
  {
   "cell_type": "code",
   "execution_count": 184,
   "id": "1c20948d",
   "metadata": {},
   "outputs": [
    {
     "data": {
      "text/plain": [
       "<seaborn.axisgrid.JointGrid at 0x1a1b1405ae0>"
      ]
     },
     "execution_count": 184,
     "metadata": {},
     "output_type": "execute_result"
    },
    {
     "data": {
      "image/png": "[encoded data removed]",
      "text/plain": [
       "<Figure size 600x600 with 3 Axes>"
      ]
     },
     "metadata": {},
     "output_type": "display_data"
    }
   ],
   "source": [
    "sns.jointplot(x=\"absences\", y='Grade', data=data)"
   ]
  },
  {
   "cell_type": "code",
   "execution_count": 185,
   "id": "6b612cae",
   "metadata": {},
   "outputs": [],
   "source": [
    "uv = np.percentile(data.G2,[99])[0]"
   ]
  },
  {
   "cell_type": "code",
   "execution_count": 186,
   "id": "83ea89d6",
   "metadata": {},
   "outputs": [
    {
     "data": {
      "text/html": [
       "<div>\n",
       "<style scoped>\n",
       "    .dataframe tbody tr th:only-of-type {\n",
       "        vertical-align: middle;\n",
       "    }\n",
       "\n",
       "    .dataframe tbody tr th {\n",
       "        vertical-align: top;\n",
       "    }\n",
       "\n",
       "    .dataframe thead th {\n",
       "        text-align: right;\n",
       "    }\n",
       "</style>\n",
       "<table border=\"1\" class=\"dataframe\">\n",
       "  <thead>\n",
       "    <tr style=\"text-align: right;\">\n",
       "      <th></th>\n",
       "      <th>StudentID</th>\n",
       "      <th>school</th>\n",
       "      <th>sex</th>\n",
       "      <th>age</th>\n",
       "      <th>address</th>\n",
       "      <th>famsize</th>\n",
       "      <th>Pstatus</th>\n",
       "      <th>Medu</th>\n",
       "      <th>Fedu</th>\n",
       "      <th>Mjob</th>\n",
       "      <th>...</th>\n",
       "      <th>famrel</th>\n",
       "      <th>freetime</th>\n",
       "      <th>goout</th>\n",
       "      <th>Dalc</th>\n",
       "      <th>Walc</th>\n",
       "      <th>health</th>\n",
       "      <th>absences</th>\n",
       "      <th>G1</th>\n",
       "      <th>G2</th>\n",
       "      <th>Grade</th>\n",
       "    </tr>\n",
       "  </thead>\n",
       "  <tbody>\n",
       "    <tr>\n",
       "      <th>64</th>\n",
       "      <td>168148</td>\n",
       "      <td>GP</td>\n",
       "      <td>M</td>\n",
       "      <td>15</td>\n",
       "      <td>U</td>\n",
       "      <td>GT3</td>\n",
       "      <td>A</td>\n",
       "      <td>Postgraduate education</td>\n",
       "      <td>Postgraduate education</td>\n",
       "      <td>other</td>\n",
       "      <td>...</td>\n",
       "      <td>1</td>\n",
       "      <td>3</td>\n",
       "      <td>3</td>\n",
       "      <td>5</td>\n",
       "      <td>5</td>\n",
       "      <td>average</td>\n",
       "      <td>0</td>\n",
       "      <td>11.0</td>\n",
       "      <td>120.0</td>\n",
       "      <td>12</td>\n",
       "    </tr>\n",
       "    <tr>\n",
       "      <th>164</th>\n",
       "      <td>628787</td>\n",
       "      <td>GP</td>\n",
       "      <td>F</td>\n",
       "      <td>17</td>\n",
       "      <td>R</td>\n",
       "      <td>LE3</td>\n",
       "      <td>T</td>\n",
       "      <td>Tertiary education</td>\n",
       "      <td>Primary education</td>\n",
       "      <td>services</td>\n",
       "      <td>...</td>\n",
       "      <td>3</td>\n",
       "      <td>1</td>\n",
       "      <td>2</td>\n",
       "      <td>1</td>\n",
       "      <td>1</td>\n",
       "      <td>average</td>\n",
       "      <td>0</td>\n",
       "      <td>18.0</td>\n",
       "      <td>19.0</td>\n",
       "      <td>19</td>\n",
       "    </tr>\n",
       "  </tbody>\n",
       "</table>\n",
       "<p>2 rows × 34 columns</p>\n",
       "</div>"
      ],
      "text/plain": [
       "     StudentID school sex  age address famsize Pstatus  \\\n",
       "64      168148     GP   M   15       U     GT3       A   \n",
       "164     628787     GP   F   17       R     LE3       T   \n",
       "\n",
       "                       Medu                    Fedu      Mjob  ... famrel  \\\n",
       "64   Postgraduate education  Postgraduate education     other  ...      1   \n",
       "164      Tertiary education       Primary education  services  ...      3   \n",
       "\n",
       "    freetime goout  Dalc  Walc   health absences    G1     G2 Grade  \n",
       "64         3     3     5     5  average        0  11.0  120.0    12  \n",
       "164        1     2     1     1  average        0  18.0   19.0    19  \n",
       "\n",
       "[2 rows x 34 columns]"
      ]
     },
     "execution_count": 186,
     "metadata": {},
     "output_type": "execute_result"
    }
   ],
   "source": [
    "data[(data.G2>uv)]"
   ]
  },
  {
   "cell_type": "code",
   "execution_count": 187,
   "id": "8e87b7f8",
   "metadata": {},
   "outputs": [
    {
     "data": {
      "text/plain": [
       "<seaborn.axisgrid.JointGrid at 0x1a1b656f340>"
      ]
     },
     "execution_count": 187,
     "metadata": {},
     "output_type": "execute_result"
    },
    {
     "data": {
      "image/png": "[encoded data removed]",
      "text/plain": [
       "<Figure size 600x600 with 3 Axes>"
      ]
     },
     "metadata": {},
     "output_type": "display_data"
    }
   ],
   "source": [
    "sns.jointplot(x=\"G2\", y='Grade', data=data)"
   ]
  },
  {
   "cell_type": "code",
   "execution_count": 188,
   "id": "0537423d",
   "metadata": {},
   "outputs": [
    {
     "name": "stderr",
     "output_type": "stream",
     "text": [
      "C:\\Users\\PC\\AppData\\Local\\Temp\\ipykernel_34876\\429999691.py:1: UserWarning: \n",
      "\n",
      "`distplot` is a deprecated function and will be removed in seaborn v0.14.0.\n",
      "\n",
      "Please adapt your code to use either `displot` (a figure-level function with\n",
      "similar flexibility) or `histplot` (an axes-level function for histograms).\n",
      "\n",
      "For a guide to updating your code to use the new functions, please see\n",
      "https://gist.github.com/mwaskom/de44147ed2974457ad6372750bbe5751\n",
      "\n",
      "  sns.distplot(x =data.age,  hist=True, kde=True)\n"
     ]
    },
    {
     "data": {
      "text/plain": [
       "<Axes: ylabel='Density'>"
      ]
     },
     "execution_count": 188,
     "metadata": {},
     "output_type": "execute_result"
    },
    {
     "data": {
      "image/png": "[encoded data removed]",
      "text/plain": [
       "<Figure size 640x480 with 1 Axes>"
      ]
     },
     "metadata": {},
     "output_type": "display_data"
    }
   ],
   "source": [
    "sns.distplot(x =data.age,  hist=True, kde=True)"
   ]
  },
  {
   "cell_type": "code",
   "execution_count": 189,
   "id": "7f9f8621",
   "metadata": {},
   "outputs": [
    {
     "data": {
      "text/plain": [
       "<bound method NDFrame.describe of      StudentID school sex  age address famsize Pstatus  \\\n",
       "0       745263     GP   F   18       R     GT3       A   \n",
       "1       174740     MS   F   17       U     GT3       T   \n",
       "2       308261     GP   F   15       U     LE3       T   \n",
       "3       337549     MS   F   17       U     GT3       T   \n",
       "4       318969     GP   F   17       U     GT3       T   \n",
       "..         ...    ...  ..  ...     ...     ...     ...   \n",
       "539     672843     GP   M   15       U     GT3       T   \n",
       "540     633556     GP   F   15       U     GT3       T   \n",
       "541     722794     GP   M   16       U     GT3       T   \n",
       "542     650929     MS   F   15       R     LE3       T   \n",
       "543     123247     GP   M   15       U     GT3       T   \n",
       "\n",
       "                       Medu                    Fedu      Mjob  ... famrel  \\\n",
       "0        Tertiary education     Secondary education     other  ...      4   \n",
       "1        Tertiary education     Secondary education   at_home  ...      4   \n",
       "2        Tertiary education     Secondary education  services  ...      4   \n",
       "3       Secondary education     Secondary education     other  ...      4   \n",
       "4    Postgraduate education  Postgraduate education     other  ...      4   \n",
       "..                      ...                     ...       ...  ...    ...   \n",
       "539  Postgraduate education     Secondary education     other  ...      3   \n",
       "540     Secondary education     Secondary education     other  ...      5   \n",
       "541  Postgraduate education  Postgraduate education  services  ...      5   \n",
       "542       Primary education       Primary education   at_home  ...      5   \n",
       "543  Postgraduate education  Postgraduate education  services  ...     50   \n",
       "\n",
       "    freetime goout  Dalc  Walc     health absences    G1         G2 Grade  \n",
       "0          1     1     1     1  very good       15  12.0   9.000000    10  \n",
       "1          3     3     2     2   very bad        5   9.0  11.632163    11  \n",
       "2          4     4     1     1  very good        4  12.0  11.000000    11  \n",
       "3          5     3     1     1  very good        4   9.0   9.000000    10  \n",
       "4          2     1     1     1       good        0  13.0  13.000000    13  \n",
       "..       ...   ...   ...   ...        ...      ...   ...        ...   ...  \n",
       "539        3     3     1     1    average        0  11.0   9.000000    10  \n",
       "540        1     2     1     1    average        4  10.0  10.000000    10  \n",
       "541        3     2     1     2  very good        4  14.0  15.000000    15  \n",
       "542        4     3     1     2       good        0  10.0  10.000000    10  \n",
       "543        3     3     1     1  very good        2  12.0  13.000000    12  \n",
       "\n",
       "[544 rows x 34 columns]>"
      ]
     },
     "execution_count": 189,
     "metadata": {},
     "output_type": "execute_result"
    }
   ],
   "source": [
    "data.describe"
   ]
  },
  {
   "cell_type": "code",
   "execution_count": 190,
   "id": "e35360f9",
   "metadata": {},
   "outputs": [
    {
     "data": {
      "text/plain": [
       "count    544.000000\n",
       "mean       2.822837\n",
       "std        0.142388\n",
       "min        1.791759\n",
       "25%        2.772589\n",
       "50%        2.833213\n",
       "75%        2.890372\n",
       "max        5.010635\n",
       "Name: age, dtype: float64"
      ]
     },
     "execution_count": 190,
     "metadata": {},
     "output_type": "execute_result"
    }
   ],
   "source": [
    "np.log(data.age).describe()"
   ]
  },
  {
   "cell_type": "code",
   "execution_count": 191,
   "id": "b0b90fd0",
   "metadata": {},
   "outputs": [
    {
     "data": {
      "text/plain": [
       "count    544.000000\n",
       "mean       2.880991\n",
       "std        0.136743\n",
       "min        1.945910\n",
       "25%        2.833213\n",
       "50%        2.890372\n",
       "75%        2.944439\n",
       "max        5.017280\n",
       "Name: age, dtype: float64"
      ]
     },
     "execution_count": 191,
     "metadata": {},
     "output_type": "execute_result"
    }
   ],
   "source": [
    "np.log(1+ data.age).describe()"
   ]
  },
  {
   "cell_type": "code",
   "execution_count": 192,
   "id": "e0882eea",
   "metadata": {},
   "outputs": [
    {
     "data": {
      "text/plain": [
       "count    544.000000\n",
       "mean       4.114886\n",
       "std        0.435181\n",
       "min        2.449490\n",
       "25%        4.000000\n",
       "50%        4.123106\n",
       "75%        4.242641\n",
       "max       12.247449\n",
       "Name: age, dtype: float64"
      ]
     },
     "execution_count": 192,
     "metadata": {},
     "output_type": "execute_result"
    }
   ],
   "source": [
    "np.sqrt(data.age).describe()"
   ]
  },
  {
   "cell_type": "code",
   "execution_count": 193,
   "id": "ccb1f4cd",
   "metadata": {},
   "outputs": [
    {
     "data": {
      "text/plain": [
       "count    544.000000\n",
       "mean       1.161465\n",
       "std        0.013520\n",
       "min        0.978902\n",
       "25%        1.156188\n",
       "50%        1.163398\n",
       "75%        1.169899\n",
       "max        1.287129\n",
       "dtype: float64"
      ]
     },
     "execution_count": 193,
     "metadata": {},
     "output_type": "execute_result"
    }
   ],
   "source": [
    "from scipy.stats import boxcox\n",
    "pd.Series(boxcox(data['age'])[0].tolist()).describe()"
   ]
  },
  {
   "cell_type": "code",
   "execution_count": 194,
   "id": "e6f15506",
   "metadata": {},
   "outputs": [
    {
     "name": "stderr",
     "output_type": "stream",
     "text": [
      "C:\\Users\\PC\\AppData\\Local\\Temp\\ipykernel_34876\\429999691.py:1: UserWarning: \n",
      "\n",
      "`distplot` is a deprecated function and will be removed in seaborn v0.14.0.\n",
      "\n",
      "Please adapt your code to use either `displot` (a figure-level function with\n",
      "similar flexibility) or `histplot` (an axes-level function for histograms).\n",
      "\n",
      "For a guide to updating your code to use the new functions, please see\n",
      "https://gist.github.com/mwaskom/de44147ed2974457ad6372750bbe5751\n",
      "\n",
      "  sns.distplot(x =data.age,  hist=True, kde=True)\n"
     ]
    },
    {
     "data": {
      "text/plain": [
       "<Axes: ylabel='Density'>"
      ]
     },
     "execution_count": 194,
     "metadata": {},
     "output_type": "execute_result"
    },
    {
     "data": {
      "image/png": "[encoded data removed]",
      "text/plain": [
       "<Figure size 640x480 with 1 Axes>"
      ]
     },
     "metadata": {},
     "output_type": "display_data"
    }
   ],
   "source": [
    "sns.distplot(x =data.age,  hist=True, kde=True)"
   ]
  },
  {
   "cell_type": "code",
   "execution_count": 195,
   "id": "fe8d9f61",
   "metadata": {},
   "outputs": [],
   "source": [
    "data.age = np.log(1+data.age)"
   ]
  },
  {
   "cell_type": "code",
   "execution_count": 196,
   "id": "1cb5d4a8",
   "metadata": {},
   "outputs": [
    {
     "name": "stderr",
     "output_type": "stream",
     "text": [
      "C:\\Users\\PC\\AppData\\Local\\Temp\\ipykernel_34876\\429999691.py:1: UserWarning: \n",
      "\n",
      "`distplot` is a deprecated function and will be removed in seaborn v0.14.0.\n",
      "\n",
      "Please adapt your code to use either `displot` (a figure-level function with\n",
      "similar flexibility) or `histplot` (an axes-level function for histograms).\n",
      "\n",
      "For a guide to updating your code to use the new functions, please see\n",
      "https://gist.github.com/mwaskom/de44147ed2974457ad6372750bbe5751\n",
      "\n",
      "  sns.distplot(x =data.age,  hist=True, kde=True)\n"
     ]
    },
    {
     "data": {
      "text/plain": [
       "<Axes: ylabel='Density'>"
      ]
     },
     "execution_count": 196,
     "metadata": {},
     "output_type": "execute_result"
    },
    {
     "data": {
      "image/png": "[encoded data removed]",
      "text/plain": [
       "<Figure size 640x480 with 1 Axes>"
      ]
     },
     "metadata": {},
     "output_type": "display_data"
    }
   ],
   "source": [
    "sns.distplot(x =data.age,  hist=True, kde=True)"
   ]
  },
  {
   "cell_type": "code",
   "execution_count": 197,
   "id": "1c6e24e5",
   "metadata": {},
   "outputs": [
    {
     "name": "stderr",
     "output_type": "stream",
     "text": [
      "C:\\Users\\PC\\AppData\\Local\\Temp\\ipykernel_34876\\1420039391.py:1: UserWarning: \n",
      "\n",
      "`distplot` is a deprecated function and will be removed in seaborn v0.14.0.\n",
      "\n",
      "Please adapt your code to use either `displot` (a figure-level function with\n",
      "similar flexibility) or `histplot` (an axes-level function for histograms).\n",
      "\n",
      "For a guide to updating your code to use the new functions, please see\n",
      "https://gist.github.com/mwaskom/de44147ed2974457ad6372750bbe5751\n",
      "\n",
      "  sns.distplot(x =data.StudentID,  hist=True, kde=True)\n"
     ]
    },
    {
     "data": {
      "text/plain": [
       "<Axes: ylabel='Density'>"
      ]
     },
     "execution_count": 197,
     "metadata": {},
     "output_type": "execute_result"
    },
    {
     "data": {
      "image/png": "[encoded data removed]",
      "text/plain": [
       "<Figure size 640x480 with 1 Axes>"
      ]
     },
     "metadata": {},
     "output_type": "display_data"
    }
   ],
   "source": [
    "sns.distplot(x =data.StudentID,  hist=True, kde=True)"
   ]
  },
  {
   "cell_type": "code",
   "execution_count": 198,
   "id": "a5f0745b",
   "metadata": {},
   "outputs": [
    {
     "data": {
      "text/plain": [
       "count       544.000000\n",
       "mean     545647.773897\n",
       "std      260288.577310\n",
       "min      104000.000000\n",
       "25%      314137.000000\n",
       "50%      546997.000000\n",
       "75%      764553.750000\n",
       "max      999684.000000\n",
       "Name: StudentID, dtype: float64"
      ]
     },
     "execution_count": 198,
     "metadata": {},
     "output_type": "execute_result"
    }
   ],
   "source": [
    "data.StudentID.describe()"
   ]
  },
  {
   "cell_type": "code",
   "execution_count": 199,
   "id": "f707f676",
   "metadata": {},
   "outputs": [
    {
     "data": {
      "text/plain": [
       "count    544.000000\n",
       "mean      13.064061\n",
       "std        0.582684\n",
       "min       11.552156\n",
       "25%       12.657588\n",
       "50%       13.212200\n",
       "75%       13.547048\n",
       "max       13.815196\n",
       "Name: StudentID, dtype: float64"
      ]
     },
     "execution_count": 199,
     "metadata": {},
     "output_type": "execute_result"
    }
   ],
   "source": [
    "np.log(1+ data.StudentID).describe()"
   ]
  },
  {
   "cell_type": "code",
   "execution_count": 200,
   "id": "41096bf8",
   "metadata": {},
   "outputs": [
    {
     "data": {
      "text/plain": [
       "count    544.000000\n",
       "mean      13.064061\n",
       "std        0.582684\n",
       "min       11.552156\n",
       "25%       12.657588\n",
       "50%       13.212200\n",
       "75%       13.547048\n",
       "max       13.815196\n",
       "Name: StudentID, dtype: float64"
      ]
     },
     "execution_count": 200,
     "metadata": {},
     "output_type": "execute_result"
    }
   ],
   "source": [
    "np.log(1+ data.StudentID).describe()"
   ]
  },
  {
   "cell_type": "code",
   "execution_count": 201,
   "id": "e69063fe",
   "metadata": {},
   "outputs": [
    {
     "data": {
      "text/plain": [
       "count    544.000000\n",
       "mean     714.393900\n",
       "std      188.026911\n",
       "min      322.490310\n",
       "25%      560.479256\n",
       "50%      739.592359\n",
       "75%      874.387515\n",
       "max      999.841988\n",
       "Name: StudentID, dtype: float64"
      ]
     },
     "execution_count": 201,
     "metadata": {},
     "output_type": "execute_result"
    }
   ],
   "source": [
    "np.sqrt(data.StudentID).describe()"
   ]
  },
  {
   "cell_type": "code",
   "execution_count": 202,
   "id": "723b2ff5",
   "metadata": {},
   "outputs": [
    {
     "data": {
      "text/plain": [
       "count      544.000000\n",
       "mean     12161.597144\n",
       "std       4229.319240\n",
       "min       4012.787408\n",
       "25%       8563.995950\n",
       "50%      12526.716565\n",
       "75%      15759.759001\n",
       "max      18940.770627\n",
       "dtype: float64"
      ]
     },
     "execution_count": 202,
     "metadata": {},
     "output_type": "execute_result"
    }
   ],
   "source": [
    "from scipy.stats import boxcox\n",
    "pd.Series(boxcox(data['StudentID'])[0].tolist()).describe()"
   ]
  },
  {
   "cell_type": "code",
   "execution_count": 203,
   "id": "64080981",
   "metadata": {},
   "outputs": [
    {
     "name": "stderr",
     "output_type": "stream",
     "text": [
      "C:\\Users\\PC\\AppData\\Local\\Temp\\ipykernel_34876\\1420039391.py:1: UserWarning: \n",
      "\n",
      "`distplot` is a deprecated function and will be removed in seaborn v0.14.0.\n",
      "\n",
      "Please adapt your code to use either `displot` (a figure-level function with\n",
      "similar flexibility) or `histplot` (an axes-level function for histograms).\n",
      "\n",
      "For a guide to updating your code to use the new functions, please see\n",
      "https://gist.github.com/mwaskom/de44147ed2974457ad6372750bbe5751\n",
      "\n",
      "  sns.distplot(x =data.StudentID,  hist=True, kde=True)\n"
     ]
    },
    {
     "data": {
      "text/plain": [
       "<Axes: ylabel='Density'>"
      ]
     },
     "execution_count": 203,
     "metadata": {},
     "output_type": "execute_result"
    },
    {
     "data": {
      "image/png": "[encoded data removed]",
      "text/plain": [
       "<Figure size 640x480 with 1 Axes>"
      ]
     },
     "metadata": {},
     "output_type": "display_data"
    }
   ],
   "source": [
    "sns.distplot(x =data.StudentID,  hist=True, kde=True)"
   ]
  },
  {
   "cell_type": "code",
   "execution_count": 204,
   "id": "f287859f",
   "metadata": {},
   "outputs": [],
   "source": [
    "data.StudentID = np.log(1+data.age)"
   ]
  },
  {
   "cell_type": "code",
   "execution_count": 205,
   "id": "137e1cad",
   "metadata": {},
   "outputs": [
    {
     "name": "stderr",
     "output_type": "stream",
     "text": [
      "C:\\Users\\PC\\AppData\\Local\\Temp\\ipykernel_34876\\1420039391.py:1: UserWarning: \n",
      "\n",
      "`distplot` is a deprecated function and will be removed in seaborn v0.14.0.\n",
      "\n",
      "Please adapt your code to use either `displot` (a figure-level function with\n",
      "similar flexibility) or `histplot` (an axes-level function for histograms).\n",
      "\n",
      "For a guide to updating your code to use the new functions, please see\n",
      "https://gist.github.com/mwaskom/de44147ed2974457ad6372750bbe5751\n",
      "\n",
      "  sns.distplot(x =data.StudentID,  hist=True, kde=True)\n"
     ]
    },
    {
     "data": {
      "text/plain": [
       "<Axes: ylabel='Density'>"
      ]
     },
     "execution_count": 205,
     "metadata": {},
     "output_type": "execute_result"
    },
    {
     "data": {
      "image/png": "[encoded data removed]",
      "text/plain": [
       "<Figure size 640x480 with 1 Axes>"
      ]
     },
     "metadata": {},
     "output_type": "display_data"
    }
   ],
   "source": [
    "sns.distplot(x =data.StudentID,  hist=True, kde=True)"
   ]
  },
  {
   "cell_type": "code",
   "execution_count": 206,
   "id": "e40d0a00",
   "metadata": {},
   "outputs": [
    {
     "name": "stderr",
     "output_type": "stream",
     "text": [
      "C:\\Users\\PC\\AppData\\Local\\Temp\\ipykernel_34876\\3522616901.py:1: UserWarning: \n",
      "\n",
      "`distplot` is a deprecated function and will be removed in seaborn v0.14.0.\n",
      "\n",
      "Please adapt your code to use either `displot` (a figure-level function with\n",
      "similar flexibility) or `histplot` (an axes-level function for histograms).\n",
      "\n",
      "For a guide to updating your code to use the new functions, please see\n",
      "https://gist.github.com/mwaskom/de44147ed2974457ad6372750bbe5751\n",
      "\n",
      "  sns.distplot(x =data.studytime,  hist=True, kde=True)\n"
     ]
    },
    {
     "data": {
      "text/plain": [
       "<Axes: ylabel='Density'>"
      ]
     },
     "execution_count": 206,
     "metadata": {},
     "output_type": "execute_result"
    },
    {
     "data": {
      "image/png": "[encoded data removed]",
      "text/plain": [
       "<Figure size 640x480 with 1 Axes>"
      ]
     },
     "metadata": {},
     "output_type": "display_data"
    }
   ],
   "source": [
    "sns.distplot(x =data.studytime,  hist=True, kde=True)"
   ]
  },
  {
   "cell_type": "code",
   "execution_count": 207,
   "id": "27172bad",
   "metadata": {},
   "outputs": [
    {
     "data": {
      "text/plain": [
       "count    544.000000\n",
       "mean       1.904412\n",
       "std        0.813140\n",
       "min        1.000000\n",
       "25%        1.000000\n",
       "50%        2.000000\n",
       "75%        2.000000\n",
       "max        4.000000\n",
       "Name: studytime, dtype: float64"
      ]
     },
     "execution_count": 207,
     "metadata": {},
     "output_type": "execute_result"
    }
   ],
   "source": [
    "data.studytime.describe()"
   ]
  },
  {
   "cell_type": "code",
   "execution_count": 208,
   "id": "43657ae3",
   "metadata": {},
   "outputs": [
    {
     "data": {
      "text/plain": [
       "count    544.000000\n",
       "mean       1.349290\n",
       "std        0.289799\n",
       "min        1.000000\n",
       "25%        1.000000\n",
       "50%        1.414214\n",
       "75%        1.414214\n",
       "max        2.000000\n",
       "Name: studytime, dtype: float64"
      ]
     },
     "execution_count": 208,
     "metadata": {},
     "output_type": "execute_result"
    }
   ],
   "source": [
    "np.sqrt(data.studytime).describe()"
   ]
  },
  {
   "cell_type": "code",
   "execution_count": 209,
   "id": "ffbe00a7",
   "metadata": {},
   "outputs": [
    {
     "name": "stderr",
     "output_type": "stream",
     "text": [
      "C:\\Users\\PC\\AppData\\Local\\Temp\\ipykernel_34876\\3522616901.py:1: UserWarning: \n",
      "\n",
      "`distplot` is a deprecated function and will be removed in seaborn v0.14.0.\n",
      "\n",
      "Please adapt your code to use either `displot` (a figure-level function with\n",
      "similar flexibility) or `histplot` (an axes-level function for histograms).\n",
      "\n",
      "For a guide to updating your code to use the new functions, please see\n",
      "https://gist.github.com/mwaskom/de44147ed2974457ad6372750bbe5751\n",
      "\n",
      "  sns.distplot(x =data.studytime,  hist=True, kde=True)\n"
     ]
    },
    {
     "data": {
      "text/plain": [
       "<Axes: ylabel='Density'>"
      ]
     },
     "execution_count": 209,
     "metadata": {},
     "output_type": "execute_result"
    },
    {
     "data": {
      "image/png": "[encoded data removed]",
      "text/plain": [
       "<Figure size 640x480 with 1 Axes>"
      ]
     },
     "metadata": {},
     "output_type": "display_data"
    }
   ],
   "source": [
    "sns.distplot(x =data.studytime,  hist=True, kde=True)"
   ]
  },
  {
   "cell_type": "code",
   "execution_count": 210,
   "id": "4a476141",
   "metadata": {},
   "outputs": [],
   "source": [
    "data.traveltime = np.sqrt(data.studytime).describe()"
   ]
  },
  {
   "cell_type": "code",
   "execution_count": 211,
   "id": "5cc0afd4",
   "metadata": {},
   "outputs": [
    {
     "name": "stderr",
     "output_type": "stream",
     "text": [
      "C:\\Users\\PC\\AppData\\Local\\Temp\\ipykernel_34876\\3916272588.py:1: UserWarning: \n",
      "\n",
      "`distplot` is a deprecated function and will be removed in seaborn v0.14.0.\n",
      "\n",
      "Please adapt your code to use either `displot` (a figure-level function with\n",
      "similar flexibility) or `histplot` (an axes-level function for histograms).\n",
      "\n",
      "For a guide to updating your code to use the new functions, please see\n",
      "https://gist.github.com/mwaskom/de44147ed2974457ad6372750bbe5751\n",
      "\n",
      "  sns.distplot(x =data.studytime ,  hist=True, kde=True)\n"
     ]
    },
    {
     "data": {
      "text/plain": [
       "<Axes: ylabel='Density'>"
      ]
     },
     "execution_count": 211,
     "metadata": {},
     "output_type": "execute_result"
    },
    {
     "data": {
      "image/png": "[encoded data removed]",
      "text/plain": [
       "<Figure size 640x480 with 1 Axes>"
      ]
     },
     "metadata": {},
     "output_type": "display_data"
    }
   ],
   "source": [
    "sns.distplot(x =data.studytime ,  hist=True, kde=True)"
   ]
  },
  {
   "cell_type": "code",
   "execution_count": 212,
   "id": "2dbfe9a2",
   "metadata": {},
   "outputs": [
    {
     "name": "stderr",
     "output_type": "stream",
     "text": [
      "C:\\Users\\PC\\AppData\\Local\\Temp\\ipykernel_34876\\311296697.py:1: UserWarning: \n",
      "\n",
      "`distplot` is a deprecated function and will be removed in seaborn v0.14.0.\n",
      "\n",
      "Please adapt your code to use either `displot` (a figure-level function with\n",
      "similar flexibility) or `histplot` (an axes-level function for histograms).\n",
      "\n",
      "For a guide to updating your code to use the new functions, please see\n",
      "https://gist.github.com/mwaskom/de44147ed2974457ad6372750bbe5751\n",
      "\n",
      "  sns.distplot(x =data.G2,  hist=True, kde=True)\n"
     ]
    },
    {
     "data": {
      "text/plain": [
       "<Axes: ylabel='Density'>"
      ]
     },
     "execution_count": 212,
     "metadata": {},
     "output_type": "execute_result"
    },
    {
     "data": {
      "image/png": "[encoded data removed]",
      "text/plain": [
       "<Figure size 640x480 with 1 Axes>"
      ]
     },
     "metadata": {},
     "output_type": "display_data"
    }
   ],
   "source": [
    "sns.distplot(x =data.G2,  hist=True, kde=True)"
   ]
  },
  {
   "cell_type": "code",
   "execution_count": 213,
   "id": "88bf9d39",
   "metadata": {},
   "outputs": [
    {
     "data": {
      "text/plain": [
       "count    544.000000\n",
       "mean      11.632163\n",
       "std        5.496324\n",
       "min        0.000000\n",
       "25%       10.000000\n",
       "50%       11.000000\n",
       "75%       13.000000\n",
       "max      120.000000\n",
       "Name: G2, dtype: float64"
      ]
     },
     "execution_count": 213,
     "metadata": {},
     "output_type": "execute_result"
    }
   ],
   "source": [
    "data.G2.describe()"
   ]
  },
  {
   "cell_type": "code",
   "execution_count": 214,
   "id": "a3237a08",
   "metadata": {},
   "outputs": [
    {
     "data": {
      "text/plain": [
       "count    544.000000\n",
       "mean       2.481675\n",
       "std        0.368162\n",
       "min        0.000000\n",
       "25%        2.397895\n",
       "50%        2.484907\n",
       "75%        2.639057\n",
       "max        4.795791\n",
       "Name: G2, dtype: float64"
      ]
     },
     "execution_count": 214,
     "metadata": {},
     "output_type": "execute_result"
    }
   ],
   "source": [
    "np.log(1+ data.G2).describe()"
   ]
  },
  {
   "cell_type": "code",
   "execution_count": 215,
   "id": "a9797850",
   "metadata": {},
   "outputs": [],
   "source": [
    "data.G2 = np.log(1+data.G2)"
   ]
  },
  {
   "cell_type": "code",
   "execution_count": 216,
   "id": "b850501c",
   "metadata": {},
   "outputs": [
    {
     "name": "stderr",
     "output_type": "stream",
     "text": [
      "C:\\Users\\PC\\AppData\\Local\\Temp\\ipykernel_34876\\311296697.py:1: UserWarning: \n",
      "\n",
      "`distplot` is a deprecated function and will be removed in seaborn v0.14.0.\n",
      "\n",
      "Please adapt your code to use either `displot` (a figure-level function with\n",
      "similar flexibility) or `histplot` (an axes-level function for histograms).\n",
      "\n",
      "For a guide to updating your code to use the new functions, please see\n",
      "https://gist.github.com/mwaskom/de44147ed2974457ad6372750bbe5751\n",
      "\n",
      "  sns.distplot(x =data.G2,  hist=True, kde=True)\n"
     ]
    },
    {
     "data": {
      "text/plain": [
       "<Axes: ylabel='Density'>"
      ]
     },
     "execution_count": 216,
     "metadata": {},
     "output_type": "execute_result"
    },
    {
     "data": {
      "image/png": "[encoded data removed]",
      "text/plain": [
       "<Figure size 640x480 with 1 Axes>"
      ]
     },
     "metadata": {},
     "output_type": "display_data"
    }
   ],
   "source": [
    "sns.distplot(x =data.G2,  hist=True, kde=True)"
   ]
  },
  {
   "cell_type": "code",
   "execution_count": 217,
   "id": "03e8d551",
   "metadata": {},
   "outputs": [
    {
     "name": "stderr",
     "output_type": "stream",
     "text": [
      "C:\\Users\\PC\\AppData\\Local\\Temp\\ipykernel_34876\\3292514994.py:1: UserWarning: \n",
      "\n",
      "`distplot` is a deprecated function and will be removed in seaborn v0.14.0.\n",
      "\n",
      "Please adapt your code to use either `displot` (a figure-level function with\n",
      "similar flexibility) or `histplot` (an axes-level function for histograms).\n",
      "\n",
      "For a guide to updating your code to use the new functions, please see\n",
      "https://gist.github.com/mwaskom/de44147ed2974457ad6372750bbe5751\n",
      "\n",
      "  sns.distplot(x =data.G1,  hist=True, kde=True)\n"
     ]
    },
    {
     "data": {
      "text/plain": [
       "<Axes: ylabel='Density'>"
      ]
     },
     "execution_count": 217,
     "metadata": {},
     "output_type": "execute_result"
    },
    {
     "data": {
      "image/png": "[encoded data removed]",
      "text/plain": [
       "<Figure size 640x480 with 1 Axes>"
      ]
     },
     "metadata": {},
     "output_type": "display_data"
    }
   ],
   "source": [
    "sns.distplot(x =data.G1,  hist=True, kde=True)"
   ]
  },
  {
   "cell_type": "code",
   "execution_count": 218,
   "id": "09dd54ec",
   "metadata": {},
   "outputs": [
    {
     "data": {
      "text/plain": [
       "count    544.000000\n",
       "mean      11.240296\n",
       "std        2.703508\n",
       "min        0.000000\n",
       "25%        9.000000\n",
       "50%       11.000000\n",
       "75%       13.000000\n",
       "max       18.000000\n",
       "Name: G1, dtype: float64"
      ]
     },
     "execution_count": 218,
     "metadata": {},
     "output_type": "execute_result"
    }
   ],
   "source": [
    "data.G1.describe()"
   ]
  },
  {
   "cell_type": "code",
   "execution_count": 219,
   "id": "57fd259d",
   "metadata": {},
   "outputs": [
    {
     "data": {
      "text/plain": [
       "count    544.000000\n",
       "mean       3.325061\n",
       "std        0.429655\n",
       "min        0.000000\n",
       "25%        3.000000\n",
       "50%        3.316625\n",
       "75%        3.605551\n",
       "max        4.242641\n",
       "Name: G1, dtype: float64"
      ]
     },
     "execution_count": 219,
     "metadata": {},
     "output_type": "execute_result"
    }
   ],
   "source": [
    "np.sqrt(data.G1).describe()"
   ]
  },
  {
   "cell_type": "code",
   "execution_count": 220,
   "id": "94503772",
   "metadata": {},
   "outputs": [],
   "source": [
    "data.G1 = np.sqrt(data.G1).describe()"
   ]
  },
  {
   "cell_type": "code",
   "execution_count": 221,
   "id": "420636a9",
   "metadata": {},
   "outputs": [
    {
     "name": "stderr",
     "output_type": "stream",
     "text": [
      "C:\\Users\\PC\\AppData\\Local\\Temp\\ipykernel_34876\\3292514994.py:1: UserWarning: \n",
      "\n",
      "`distplot` is a deprecated function and will be removed in seaborn v0.14.0.\n",
      "\n",
      "Please adapt your code to use either `displot` (a figure-level function with\n",
      "similar flexibility) or `histplot` (an axes-level function for histograms).\n",
      "\n",
      "For a guide to updating your code to use the new functions, please see\n",
      "https://gist.github.com/mwaskom/de44147ed2974457ad6372750bbe5751\n",
      "\n",
      "  sns.distplot(x =data.G1,  hist=True, kde=True)\n",
      "C:\\Users\\PC\\anaconda3\\lib\\site-packages\\seaborn\\distributions.py:2479: RuntimeWarning: Mean of empty slice.\n",
      "  line, = ax.plot(a.mean(), 0)\n",
      "C:\\Users\\PC\\anaconda3\\lib\\site-packages\\numpy\\core\\_methods.py:190: RuntimeWarning: invalid value encountered in double_scalars\n",
      "  ret = ret.dtype.type(ret / rcount)\n",
      "C:\\Users\\PC\\anaconda3\\lib\\site-packages\\numpy\\lib\\histograms.py:906: RuntimeWarning: invalid value encountered in divide\n",
      "  return n/db/n.sum(), bin_edges\n"
     ]
    },
    {
     "data": {
      "text/plain": [
       "<Axes: >"
      ]
     },
     "execution_count": 221,
     "metadata": {},
     "output_type": "execute_result"
    },
    {
     "data": {
      "image/png": "[encoded data removed]",
      "text/plain": [
       "<Figure size 640x480 with 1 Axes>"
      ]
     },
     "metadata": {},
     "output_type": "display_data"
    }
   ],
   "source": [
    "sns.distplot(x =data.G1,  hist=True, kde=True)"
   ]
  },
  {
   "cell_type": "code",
   "execution_count": 222,
   "id": "aec87c76",
   "metadata": {},
   "outputs": [
    {
     "name": "stderr",
     "output_type": "stream",
     "text": [
      "C:\\Users\\PC\\AppData\\Local\\Temp\\ipykernel_34876\\612596761.py:1: UserWarning: \n",
      "\n",
      "`distplot` is a deprecated function and will be removed in seaborn v0.14.0.\n",
      "\n",
      "Please adapt your code to use either `displot` (a figure-level function with\n",
      "similar flexibility) or `histplot` (an axes-level function for histograms).\n",
      "\n",
      "For a guide to updating your code to use the new functions, please see\n",
      "https://gist.github.com/mwaskom/de44147ed2974457ad6372750bbe5751\n",
      "\n",
      "  sns.distplot(x =data.Grade,  hist=True, kde=True)\n"
     ]
    },
    {
     "data": {
      "text/plain": [
       "<Axes: ylabel='Density'>"
      ]
     },
     "execution_count": 222,
     "metadata": {},
     "output_type": "execute_result"
    },
    {
     "data": {
      "image/png": "[encoded data removed]",
      "text/plain": [
       "<Figure size 640x480 with 1 Axes>"
      ]
     },
     "metadata": {},
     "output_type": "display_data"
    }
   ],
   "source": [
    "sns.distplot(x =data.Grade,  hist=True, kde=True)"
   ]
  },
  {
   "cell_type": "code",
   "execution_count": 223,
   "id": "bfee266d",
   "metadata": {},
   "outputs": [
    {
     "data": {
      "text/plain": [
       "count    544.000000\n",
       "mean      11.757353\n",
       "std        3.274425\n",
       "min        0.000000\n",
       "25%       10.000000\n",
       "50%       12.000000\n",
       "75%       14.000000\n",
       "max       19.000000\n",
       "Name: Grade, dtype: float64"
      ]
     },
     "execution_count": 223,
     "metadata": {},
     "output_type": "execute_result"
    }
   ],
   "source": [
    "data.Grade.describe()"
   ]
  },
  {
   "cell_type": "code",
   "execution_count": 224,
   "id": "751cfb90",
   "metadata": {},
   "outputs": [
    {
     "data": {
      "text/plain": [
       "count    544.000000\n",
       "mean       2.481255\n",
       "std        0.461150\n",
       "min        0.000000\n",
       "25%        2.397895\n",
       "50%        2.564949\n",
       "75%        2.708050\n",
       "max        2.995732\n",
       "Name: Grade, dtype: float64"
      ]
     },
     "execution_count": 224,
     "metadata": {},
     "output_type": "execute_result"
    }
   ],
   "source": [
    "np.log(1+ data.Grade).describe()"
   ]
  },
  {
   "cell_type": "code",
   "execution_count": 225,
   "id": "0ace3509",
   "metadata": {},
   "outputs": [
    {
     "data": {
      "text/plain": [
       "count    544.000000\n",
       "mean       3.361902\n",
       "std        0.675135\n",
       "min        0.000000\n",
       "25%        3.162278\n",
       "50%        3.464102\n",
       "75%        3.741657\n",
       "max        4.358899\n",
       "Name: Grade, dtype: float64"
      ]
     },
     "execution_count": 225,
     "metadata": {},
     "output_type": "execute_result"
    }
   ],
   "source": [
    "np.sqrt(data.Grade).describe()"
   ]
  },
  {
   "cell_type": "code",
   "execution_count": 226,
   "id": "57ae5439",
   "metadata": {},
   "outputs": [
    {
     "name": "stderr",
     "output_type": "stream",
     "text": [
      "C:\\Users\\PC\\AppData\\Local\\Temp\\ipykernel_34876\\612596761.py:1: UserWarning: \n",
      "\n",
      "`distplot` is a deprecated function and will be removed in seaborn v0.14.0.\n",
      "\n",
      "Please adapt your code to use either `displot` (a figure-level function with\n",
      "similar flexibility) or `histplot` (an axes-level function for histograms).\n",
      "\n",
      "For a guide to updating your code to use the new functions, please see\n",
      "https://gist.github.com/mwaskom/de44147ed2974457ad6372750bbe5751\n",
      "\n",
      "  sns.distplot(x =data.Grade,  hist=True, kde=True)\n"
     ]
    },
    {
     "data": {
      "text/plain": [
       "<Axes: ylabel='Density'>"
      ]
     },
     "execution_count": 226,
     "metadata": {},
     "output_type": "execute_result"
    },
    {
     "data": {
      "image/png": "[encoded data removed]",
      "text/plain": [
       "<Figure size 640x480 with 1 Axes>"
      ]
     },
     "metadata": {},
     "output_type": "display_data"
    }
   ],
   "source": [
    "sns.distplot(x =data.Grade,  hist=True, kde=True)"
   ]
  },
  {
   "cell_type": "code",
   "execution_count": 227,
   "id": "94f7673c",
   "metadata": {},
   "outputs": [],
   "source": [
    "data.Grade = np.sqrt(data.Grade).describe()"
   ]
  },
  {
   "cell_type": "code",
   "execution_count": 228,
   "id": "361ddf8e",
   "metadata": {},
   "outputs": [
    {
     "name": "stderr",
     "output_type": "stream",
     "text": [
      "C:\\Users\\PC\\AppData\\Local\\Temp\\ipykernel_34876\\612596761.py:1: UserWarning: \n",
      "\n",
      "`distplot` is a deprecated function and will be removed in seaborn v0.14.0.\n",
      "\n",
      "Please adapt your code to use either `displot` (a figure-level function with\n",
      "similar flexibility) or `histplot` (an axes-level function for histograms).\n",
      "\n",
      "For a guide to updating your code to use the new functions, please see\n",
      "https://gist.github.com/mwaskom/de44147ed2974457ad6372750bbe5751\n",
      "\n",
      "  sns.distplot(x =data.Grade,  hist=True, kde=True)\n",
      "C:\\Users\\PC\\anaconda3\\lib\\site-packages\\seaborn\\distributions.py:2479: RuntimeWarning: Mean of empty slice.\n",
      "  line, = ax.plot(a.mean(), 0)\n",
      "C:\\Users\\PC\\anaconda3\\lib\\site-packages\\numpy\\core\\_methods.py:190: RuntimeWarning: invalid value encountered in double_scalars\n",
      "  ret = ret.dtype.type(ret / rcount)\n",
      "C:\\Users\\PC\\anaconda3\\lib\\site-packages\\numpy\\lib\\histograms.py:906: RuntimeWarning: invalid value encountered in divide\n",
      "  return n/db/n.sum(), bin_edges\n"
     ]
    },
    {
     "data": {
      "text/plain": [
       "<Axes: >"
      ]
     },
     "execution_count": 228,
     "metadata": {},
     "output_type": "execute_result"
    },
    {
     "data": {
      "image/png": "[encoded data removed]",
      "text/plain": [
       "<Figure size 640x480 with 1 Axes>"
      ]
     },
     "metadata": {},
     "output_type": "display_data"
    }
   ],
   "source": [
    "sns.distplot(x =data.Grade,  hist=True, kde=True)"
   ]
  },
  {
   "cell_type": "code",
   "execution_count": 229,
   "id": "52ce5a11",
   "metadata": {},
   "outputs": [
    {
     "name": "stderr",
     "output_type": "stream",
     "text": [
      "C:\\Users\\PC\\AppData\\Local\\Temp\\ipykernel_34876\\383550334.py:1: UserWarning: \n",
      "\n",
      "`distplot` is a deprecated function and will be removed in seaborn v0.14.0.\n",
      "\n",
      "Please adapt your code to use either `displot` (a figure-level function with\n",
      "similar flexibility) or `histplot` (an axes-level function for histograms).\n",
      "\n",
      "For a guide to updating your code to use the new functions, please see\n",
      "https://gist.github.com/mwaskom/de44147ed2974457ad6372750bbe5751\n",
      "\n",
      "  sns.distplot(x =data.absences,  hist=True, kde=True)\n"
     ]
    },
    {
     "data": {
      "text/plain": [
       "<Axes: ylabel='Density'>"
      ]
     },
     "execution_count": 229,
     "metadata": {},
     "output_type": "execute_result"
    },
    {
     "data": {
      "image/png": "[encoded data removed]",
      "text/plain": [
       "<Figure size 640x480 with 1 Axes>"
      ]
     },
     "metadata": {},
     "output_type": "display_data"
    }
   ],
   "source": [
    "sns.distplot(x =data.absences,  hist=True, kde=True)"
   ]
  },
  {
   "cell_type": "code",
   "execution_count": 230,
   "id": "93512273",
   "metadata": {},
   "outputs": [
    {
     "data": {
      "text/plain": [
       "count    544.000000\n",
       "mean       3.738971\n",
       "std        4.790440\n",
       "min        0.000000\n",
       "25%        0.000000\n",
       "50%        2.000000\n",
       "75%        6.000000\n",
       "max       32.000000\n",
       "Name: absences, dtype: float64"
      ]
     },
     "execution_count": 230,
     "metadata": {},
     "output_type": "execute_result"
    }
   ],
   "source": [
    "data.absences.describe()"
   ]
  },
  {
   "cell_type": "code",
   "execution_count": 231,
   "id": "288850dc",
   "metadata": {},
   "outputs": [
    {
     "name": "stderr",
     "output_type": "stream",
     "text": [
      "C:\\Users\\PC\\anaconda3\\lib\\site-packages\\pandas\\core\\arraylike.py:402: RuntimeWarning: divide by zero encountered in log\n",
      "  result = getattr(ufunc, method)(*inputs, **kwargs)\n",
      "C:\\Users\\PC\\anaconda3\\lib\\site-packages\\numpy\\lib\\function_base.py:4527: RuntimeWarning: invalid value encountered in subtract\n",
      "  diff_b_a = subtract(b, a)\n"
     ]
    },
    {
     "data": {
      "text/plain": [
       "count    544.000000\n",
       "mean           -inf\n",
       "std             NaN\n",
       "min            -inf\n",
       "25%             NaN\n",
       "50%        0.693147\n",
       "75%        1.791759\n",
       "max        3.465736\n",
       "Name: absences, dtype: float64"
      ]
     },
     "execution_count": 231,
     "metadata": {},
     "output_type": "execute_result"
    }
   ],
   "source": [
    "np.log(data.absences).describe()"
   ]
  },
  {
   "cell_type": "code",
   "execution_count": 232,
   "id": "649a1de4",
   "metadata": {},
   "outputs": [
    {
     "data": {
      "text/plain": [
       "count    544.000000\n",
       "mean       1.093622\n",
       "std        0.976860\n",
       "min        0.000000\n",
       "25%        0.000000\n",
       "50%        1.098612\n",
       "75%        1.945910\n",
       "max        3.496508\n",
       "Name: absences, dtype: float64"
      ]
     },
     "execution_count": 232,
     "metadata": {},
     "output_type": "execute_result"
    }
   ],
   "source": [
    "np.log(1+ data.absences).describe()"
   ]
  },
  {
   "cell_type": "code",
   "execution_count": 233,
   "id": "977c9133",
   "metadata": {},
   "outputs": [
    {
     "data": {
      "text/plain": [
       "count    544.000000\n",
       "mean       1.424202\n",
       "std        1.309110\n",
       "min        0.000000\n",
       "25%        0.000000\n",
       "50%        1.414214\n",
       "75%        2.449490\n",
       "max        5.656854\n",
       "Name: absences, dtype: float64"
      ]
     },
     "execution_count": 233,
     "metadata": {},
     "output_type": "execute_result"
    }
   ],
   "source": [
    "np.sqrt(data.absences).describe()"
   ]
  },
  {
   "cell_type": "code",
   "execution_count": 234,
   "id": "87d2c9b4",
   "metadata": {},
   "outputs": [
    {
     "name": "stderr",
     "output_type": "stream",
     "text": [
      "C:\\Users\\PC\\AppData\\Local\\Temp\\ipykernel_34876\\383550334.py:1: UserWarning: \n",
      "\n",
      "`distplot` is a deprecated function and will be removed in seaborn v0.14.0.\n",
      "\n",
      "Please adapt your code to use either `displot` (a figure-level function with\n",
      "similar flexibility) or `histplot` (an axes-level function for histograms).\n",
      "\n",
      "For a guide to updating your code to use the new functions, please see\n",
      "https://gist.github.com/mwaskom/de44147ed2974457ad6372750bbe5751\n",
      "\n",
      "  sns.distplot(x =data.absences,  hist=True, kde=True)\n"
     ]
    },
    {
     "data": {
      "text/plain": [
       "<Axes: ylabel='Density'>"
      ]
     },
     "execution_count": 234,
     "metadata": {},
     "output_type": "execute_result"
    },
    {
     "data": {
      "image/png": "[encoded data removed]",
      "text/plain": [
       "<Figure size 640x480 with 1 Axes>"
      ]
     },
     "metadata": {},
     "output_type": "display_data"
    }
   ],
   "source": [
    "sns.distplot(x =data.absences,  hist=True, kde=True)"
   ]
  },
  {
   "cell_type": "code",
   "execution_count": 235,
   "id": "6e40567f",
   "metadata": {},
   "outputs": [],
   "source": [
    "data.absences = np.sqrt(data.absences).describe()"
   ]
  },
  {
   "cell_type": "code",
   "execution_count": 236,
   "id": "305dfdec",
   "metadata": {},
   "outputs": [
    {
     "name": "stderr",
     "output_type": "stream",
     "text": [
      "C:\\Users\\PC\\AppData\\Local\\Temp\\ipykernel_34876\\383550334.py:1: UserWarning: \n",
      "\n",
      "`distplot` is a deprecated function and will be removed in seaborn v0.14.0.\n",
      "\n",
      "Please adapt your code to use either `displot` (a figure-level function with\n",
      "similar flexibility) or `histplot` (an axes-level function for histograms).\n",
      "\n",
      "For a guide to updating your code to use the new functions, please see\n",
      "https://gist.github.com/mwaskom/de44147ed2974457ad6372750bbe5751\n",
      "\n",
      "  sns.distplot(x =data.absences,  hist=True, kde=True)\n",
      "C:\\Users\\PC\\anaconda3\\lib\\site-packages\\seaborn\\distributions.py:2479: RuntimeWarning: Mean of empty slice.\n",
      "  line, = ax.plot(a.mean(), 0)\n",
      "C:\\Users\\PC\\anaconda3\\lib\\site-packages\\numpy\\core\\_methods.py:190: RuntimeWarning: invalid value encountered in double_scalars\n",
      "  ret = ret.dtype.type(ret / rcount)\n",
      "C:\\Users\\PC\\anaconda3\\lib\\site-packages\\numpy\\lib\\histograms.py:906: RuntimeWarning: invalid value encountered in divide\n",
      "  return n/db/n.sum(), bin_edges\n"
     ]
    },
    {
     "data": {
      "text/plain": [
       "<Axes: >"
      ]
     },
     "execution_count": 236,
     "metadata": {},
     "output_type": "execute_result"
    },
    {
     "data": {
      "image/png": "[encoded data removed]",
      "text/plain": [
       "<Figure size 640x480 with 1 Axes>"
      ]
     },
     "metadata": {},
     "output_type": "display_data"
    }
   ],
   "source": [
    "sns.distplot(x =data.absences,  hist=True, kde=True)"
   ]
  },
  {
   "cell_type": "code",
   "execution_count": 238,
   "id": "62447f65",
   "metadata": {},
   "outputs": [
    {
     "name": "stderr",
     "output_type": "stream",
     "text": [
      "C:\\Users\\PC\\AppData\\Local\\Temp\\ipykernel_34876\\3070914613.py:1: UserWarning: \n",
      "\n",
      "`distplot` is a deprecated function and will be removed in seaborn v0.14.0.\n",
      "\n",
      "Please adapt your code to use either `displot` (a figure-level function with\n",
      "similar flexibility) or `histplot` (an axes-level function for histograms).\n",
      "\n",
      "For a guide to updating your code to use the new functions, please see\n",
      "https://gist.github.com/mwaskom/de44147ed2974457ad6372750bbe5751\n",
      "\n",
      "  sns.distplot(x =data.famrel,  hist=True, kde=True)\n"
     ]
    },
    {
     "data": {
      "text/plain": [
       "<Axes: ylabel='Density'>"
      ]
     },
     "execution_count": 238,
     "metadata": {},
     "output_type": "execute_result"
    },
    {
     "data": {
      "image/png": "[encoded data removed]",
      "text/plain": [
       "<Figure size 640x480 with 1 Axes>"
      ]
     },
     "metadata": {},
     "output_type": "display_data"
    }
   ],
   "source": [
    "sns.distplot(x =data.famrel,  hist=True, kde=True)"
   ]
  },
  {
   "cell_type": "code",
   "execution_count": 239,
   "id": "395f86d5",
   "metadata": {},
   "outputs": [
    {
     "data": {
      "text/plain": [
       "count    544.000000\n",
       "mean       4.003676\n",
       "std        2.198272\n",
       "min        1.000000\n",
       "25%        4.000000\n",
       "50%        4.000000\n",
       "75%        5.000000\n",
       "max       50.000000\n",
       "Name: famrel, dtype: float64"
      ]
     },
     "execution_count": 239,
     "metadata": {},
     "output_type": "execute_result"
    }
   ],
   "source": [
    "data.famrel.describe()"
   ]
  },
  {
   "cell_type": "code",
   "execution_count": 240,
   "id": "90235ac2",
   "metadata": {},
   "outputs": [
    {
     "data": {
      "text/plain": [
       "count    544.000000\n",
       "mean       1.325677\n",
       "std        0.355615\n",
       "min        0.000000\n",
       "25%        1.386294\n",
       "50%        1.386294\n",
       "75%        1.609438\n",
       "max        3.912023\n",
       "Name: famrel, dtype: float64"
      ]
     },
     "execution_count": 240,
     "metadata": {},
     "output_type": "execute_result"
    }
   ],
   "source": [
    "np.log(data.famrel).describe()"
   ]
  },
  {
   "cell_type": "code",
   "execution_count": 241,
   "id": "72b2ee66",
   "metadata": {},
   "outputs": [
    {
     "data": {
      "text/plain": [
       "count    544.000000\n",
       "mean       1.572630\n",
       "std        0.260376\n",
       "min        0.693147\n",
       "25%        1.609438\n",
       "50%        1.609438\n",
       "75%        1.791759\n",
       "max        3.931826\n",
       "Name: famrel, dtype: float64"
      ]
     },
     "execution_count": 241,
     "metadata": {},
     "output_type": "execute_result"
    }
   ],
   "source": [
    "np.log(1+ data.famrel).describe()"
   ]
  },
  {
   "cell_type": "code",
   "execution_count": 242,
   "id": "ee06f500",
   "metadata": {},
   "outputs": [
    {
     "data": {
      "text/plain": [
       "count    544.000000\n",
       "mean       1.969563\n",
       "std        0.353165\n",
       "min        1.000000\n",
       "25%        2.000000\n",
       "50%        2.000000\n",
       "75%        2.236068\n",
       "max        7.071068\n",
       "Name: famrel, dtype: float64"
      ]
     },
     "execution_count": 242,
     "metadata": {},
     "output_type": "execute_result"
    }
   ],
   "source": [
    "np.sqrt(data.famrel).describe()"
   ]
  },
  {
   "cell_type": "code",
   "execution_count": 245,
   "id": "6f4b55be",
   "metadata": {},
   "outputs": [
    {
     "name": "stderr",
     "output_type": "stream",
     "text": [
      "C:\\Users\\PC\\AppData\\Local\\Temp\\ipykernel_34876\\3070914613.py:1: UserWarning: \n",
      "\n",
      "`distplot` is a deprecated function and will be removed in seaborn v0.14.0.\n",
      "\n",
      "Please adapt your code to use either `displot` (a figure-level function with\n",
      "similar flexibility) or `histplot` (an axes-level function for histograms).\n",
      "\n",
      "For a guide to updating your code to use the new functions, please see\n",
      "https://gist.github.com/mwaskom/de44147ed2974457ad6372750bbe5751\n",
      "\n",
      "  sns.distplot(x =data.famrel,  hist=True, kde=True)\n"
     ]
    },
    {
     "data": {
      "text/plain": [
       "<Axes: ylabel='Density'>"
      ]
     },
     "execution_count": 245,
     "metadata": {},
     "output_type": "execute_result"
    },
    {
     "data": {
      "image/png": "[encoded data removed]",
      "text/plain": [
       "<Figure size 640x480 with 1 Axes>"
      ]
     },
     "metadata": {},
     "output_type": "display_data"
    }
   ],
   "source": [
    "sns.distplot(x =data.famrel,  hist=True, kde=True)"
   ]
  },
  {
   "cell_type": "code",
   "execution_count": 250,
   "id": "28ae99a7",
   "metadata": {},
   "outputs": [],
   "source": [
    "data.famrel = np.log(data.famrel).describe()"
   ]
  },
  {
   "cell_type": "code",
   "execution_count": 248,
   "id": "bfc5112b",
   "metadata": {},
   "outputs": [
    {
     "name": "stderr",
     "output_type": "stream",
     "text": [
      "C:\\Users\\PC\\AppData\\Local\\Temp\\ipykernel_34876\\3070914613.py:1: UserWarning: \n",
      "\n",
      "`distplot` is a deprecated function and will be removed in seaborn v0.14.0.\n",
      "\n",
      "Please adapt your code to use either `displot` (a figure-level function with\n",
      "similar flexibility) or `histplot` (an axes-level function for histograms).\n",
      "\n",
      "For a guide to updating your code to use the new functions, please see\n",
      "https://gist.github.com/mwaskom/de44147ed2974457ad6372750bbe5751\n",
      "\n",
      "  sns.distplot(x =data.famrel,  hist=True, kde=True)\n"
     ]
    },
    {
     "data": {
      "text/plain": [
       "<Axes: ylabel='Density'>"
      ]
     },
     "execution_count": 248,
     "metadata": {},
     "output_type": "execute_result"
    },
    {
     "data": {
      "image/png": "[encoded data removed]",
      "text/plain": [
       "<Figure size 640x480 with 1 Axes>"
      ]
     },
     "metadata": {},
     "output_type": "display_data"
    }
   ],
   "source": [
    "sns.distplot(x =data.famrel,  hist=True, kde=True)"
   ]
  },
  {
   "cell_type": "code",
   "execution_count": null,
   "id": "dc00aa0a",
   "metadata": {},
   "outputs": [],
   "source": []
  }
 ],
 "metadata": {
  "kernelspec": {
   "display_name": "Python 3 (ipykernel)",
   "language": "python",
   "name": "python3"
  },
  "language_info": {
   "codemirror_mode": {
    "name": "ipython",
    "version": 3
   },
   "file_extension": ".py",
   "mimetype": "text/x-python",
   "name": "python",
   "nbconvert_exporter": "python",
   "pygments_lexer": "ipython3",
   "version": "3.11.3"
  }
 },
 "nbformat": 4,
 "nbformat_minor": 5
}
